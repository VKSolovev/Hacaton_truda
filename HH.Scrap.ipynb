{
 "cells": [
  {
   "cell_type": "code",
   "execution_count": 2,
   "metadata": {},
   "outputs": [],
   "source": [
    "import re\n",
    "\n",
    "def iteritems(dic):\n",
    "    return iter(dic.items())\n",
    "\n",
    "def transliterate(string):\n",
    "\n",
    "    capital_letters = {u'А': u'A',\n",
    "                       u'Б': u'B',\n",
    "                       u'В': u'V',\n",
    "                       u'Г': u'G',\n",
    "                       u'Д': u'D',\n",
    "                       u'Е': u'E',\n",
    "                       u'Ё': u'E',\n",
    "                       u'З': u'Z',\n",
    "                       u'И': u'I',\n",
    "                       u'Й': u'Y',\n",
    "                       u'К': u'K',\n",
    "                       u'Л': u'L',\n",
    "                       u'М': u'M',\n",
    "                       u'Н': u'N',\n",
    "                       u'О': u'O',\n",
    "                       u'П': u'P',\n",
    "                       u'Р': u'R',\n",
    "                       u'С': u'S',\n",
    "                       u'Т': u'T',\n",
    "                       u'У': u'U',\n",
    "                       u'Ф': u'F',\n",
    "                       u'Х': u'H',\n",
    "                       u'Ъ': u'',\n",
    "                       u'Ы': u'Y',\n",
    "                       u'Ь': u'',\n",
    "                       u'Э': u'E',}\n",
    "\n",
    "    capital_letters_transliterated_to_multiple_letters = {u'Ж': u'Zh',\n",
    "                                                          u'Ц': u'Ts',\n",
    "                                                          u'Ч': u'Ch',\n",
    "                                                          u'Ш': u'Sh',\n",
    "                                                          u'Щ': u'Sch',\n",
    "                                                          u'Ю': u'Yu',\n",
    "                                                          u'Я': u'Ya',}\n",
    "\n",
    "\n",
    "    lower_case_letters = {u'а': u'a',\n",
    "                       u'б': u'b',\n",
    "                       u'в': u'v',\n",
    "                       u'г': u'g',\n",
    "                       u'д': u'd',\n",
    "                       u'е': u'e',\n",
    "                       u'ё': u'e',\n",
    "                       u'ж': u'zh',\n",
    "                       u'з': u'z',\n",
    "                       u'и': u'i',\n",
    "                       u'й': u'y',\n",
    "                       u'к': u'k',\n",
    "                       u'л': u'l',\n",
    "                       u'м': u'm',\n",
    "                       u'н': u'n',\n",
    "                       u'о': u'o',\n",
    "                       u'п': u'p',\n",
    "                       u'р': u'r',\n",
    "                       u'с': u's',\n",
    "                       u'т': u't',\n",
    "                       u'у': u'u',\n",
    "                       u'ф': u'f',\n",
    "                       u'х': u'h',\n",
    "                       u'ц': u'ts',\n",
    "                       u'ч': u'ch',\n",
    "                       u'ш': u'sh',\n",
    "                       u'щ': u'sch',\n",
    "                       u'ъ': u'',\n",
    "                       u'ы': u'y',\n",
    "                       u'ь': u'',\n",
    "                       u'э': u'e',\n",
    "                       u'ю': u'yu',\n",
    "                       u'я': u'ya',}\n",
    "\n",
    "    capital_and_lower_case_letter_pairs = {}\n",
    "\n",
    "    for capital_letter, capital_letter_translit in iteritems(capital_letters_transliterated_to_multiple_letters):\n",
    "        for lowercase_letter, lowercase_letter_translit in iteritems(lower_case_letters):\n",
    "            capital_and_lower_case_letter_pairs[u\"%s%s\" % (capital_letter, lowercase_letter)] = u\"%s%s\" % (capital_letter_translit, lowercase_letter_translit)\n",
    "\n",
    "    for dictionary in (capital_and_lower_case_letter_pairs, capital_letters, lower_case_letters):\n",
    "\n",
    "        for cyrillic_string, latin_string in iteritems(dictionary):\n",
    "            string = re.sub(cyrillic_string, latin_string, string)\n",
    "\n",
    "    for cyrillic_string, latin_string in iteritems(capital_letters_transliterated_to_multiple_letters):\n",
    "        string = re.sub(cyrillic_string, latin_string.upper(), string)\n",
    "\n",
    "    return string"
   ]
  },
  {
   "cell_type": "code",
   "execution_count": 3,
   "metadata": {},
   "outputs": [],
   "source": [
    "#Создаю поисковой запрос, после этого выкачиваю все резюме с первой страницы (надо узнать сколько всего страниц и выкачать также)\n",
    "#после этого узнаю чему равна зарплата в каждом конкретном резюме и выкачиваю описание\n",
    "string = \"продавец-консультант\""
   ]
  },
  {
   "cell_type": "code",
   "execution_count": 4,
   "metadata": {},
   "outputs": [],
   "source": [
    "def get_url(string):\n",
    "    return \"https://hh.ru/resumes/\" + transliterate(string)"
   ]
  },
  {
   "cell_type": "code",
   "execution_count": 5,
   "metadata": {},
   "outputs": [],
   "source": [
    "import requests\n",
    "from bs4 import BeautifulSoup"
   ]
  },
  {
   "cell_type": "code",
   "execution_count": 6,
   "metadata": {},
   "outputs": [
    {
     "name": "stdout",
     "output_type": "stream",
     "text": [
      "https://hh.ru/resumes/prodavets-konsultant\n"
     ]
    }
   ],
   "source": [
    "headers = {\"User-Agent\":\"Mozilla/5.0 (Macintosh; Intel Mac OS X 10_15_4) AppleWebKit/537.36 (KHTML, like Gecko) Chrome/83.0.4103.97 Safari/537.36\"}\n",
    "\n",
    "r = requests.get(get_url(string), headers=headers)\n",
    "r.ok\n",
    "print(get_url(string))"
   ]
  },
  {
   "cell_type": "code",
   "execution_count": 7,
   "metadata": {},
   "outputs": [
    {
     "data": {
      "text/plain": [
       "<Response [200]>"
      ]
     },
     "execution_count": 7,
     "metadata": {},
     "output_type": "execute_result"
    }
   ],
   "source": [
    "r"
   ]
  },
  {
   "cell_type": "code",
   "execution_count": 8,
   "metadata": {},
   "outputs": [],
   "source": [
    "soup = BeautifulSoup(r.text)"
   ]
  },
  {
   "cell_type": "code",
   "execution_count": 9,
   "metadata": {},
   "outputs": [],
   "source": [
    "soup1 = soup.body.find_all('div', {\"class\" : \"HH-MainContent HH-Supernova-MainContent\"})[0].div.div"
   ]
  },
  {
   "cell_type": "code",
   "execution_count": 10,
   "metadata": {},
   "outputs": [],
   "source": [
    "soup2 = soup1.find_all('div', {\"id\" : \"HH-React-Root\"})[0].div.div.div.find_all('div', {\"class\" : \"resume-serp\"})[0]"
   ]
  },
  {
   "cell_type": "code",
   "execution_count": 11,
   "metadata": {},
   "outputs": [],
   "source": [
    "soup3 = soup2.find_all('div', {\"class\" : \"bloko-column bloko-column_m-9 bloko-column_l-13\"})[0].div"
   ]
  },
  {
   "cell_type": "code",
   "execution_count": 12,
   "metadata": {},
   "outputs": [],
   "source": [
    "#Тут уже лежит список всех найденных страниц\n",
    "soup4 = soup3.find_all('div', {'data-qa':\"resume-serp__results-search\"})[0].find_all('div', {'data-qa':\"resume-serp__resume\"})"
   ]
  },
  {
   "cell_type": "code",
   "execution_count": 13,
   "metadata": {},
   "outputs": [],
   "source": [
    "def get_local_url(soup):\n",
    "    return 'https://hh.ru/' + soup[0].find_all('div')[1].div.div.div.span.a.get('href')"
   ]
  },
  {
   "cell_type": "code",
   "execution_count": 14,
   "metadata": {},
   "outputs": [],
   "source": [
    "#тут мы нашли нужные url. Для нахождения остальных надо к изначальному урл приписать страницу\n",
    "new_urls = []\n",
    "for tap in soup4:\n",
    "    new_urls.append('https://hh.ru' + tap.find_all('div')[1].div.div.div.span.a.get('href'))"
   ]
  },
  {
   "cell_type": "code",
   "execution_count": 15,
   "metadata": {},
   "outputs": [
    {
     "data": {
      "text/plain": [
       "'https://hh.ru/resume/085211a50002f385090039ed1f72615a374c66?query=%D0%BF%D1%80%D0%BE%D0%B4%D0%B0%D0%B2%D0%B5%D1%86-%D0%BA%D0%BE%D0%BD%D1%81%D1%83%D0%BB%D1%8C%D1%82%D0%B0%D0%BD%D1%82&hhtmFrom=resumes_catalog&source=search'"
      ]
     },
     "execution_count": 15,
     "metadata": {},
     "output_type": "execute_result"
    }
   ],
   "source": [
    "new_urls[0]"
   ]
  },
  {
   "cell_type": "code",
   "execution_count": null,
   "metadata": {},
   "outputs": [],
   "source": []
  },
  {
   "cell_type": "code",
   "execution_count": 32,
   "metadata": {},
   "outputs": [
    {
     "name": "stdout",
     "output_type": "stream",
     "text": [
      "https://hh.ru/resume/085211a50002f385090039ed1f72615a374c66?query=%D0%BF%D1%80%D0%BE%D0%B4%D0%B0%D0%B2%D0%B5%D1%86-%D0%BA%D0%BE%D0%BD%D1%81%D1%83%D0%BB%D1%8C%D1%82%D0%B0%D0%BD%D1%82&hhtmFrom=resumes_catalog&source=search\n"
     ]
    }
   ],
   "source": [
    "headers = {\"User-Agent\":\"Mozilla/5.0 (Macintosh; Intel Mac OS X 10_15_4) AppleWebKit/537.36 (KHTML, like Gecko) Chrome/83.0.4103.97 Safari/537.36\"}\n",
    "\n",
    "r2 = requests.get(new_urls[0], headers=headers)\n",
    "r2.ok\n",
    "soup5 = BeautifulSoup(r2.text)\n",
    "print(new_urls[0])"
   ]
  },
  {
   "cell_type": "code",
   "execution_count": 17,
   "metadata": {},
   "outputs": [],
   "source": [
    "#body > div.HH-MainContent.HH-Supernova-MainContent\n",
    "#HH-React-Root > div > div.bloko-columns-wrapper > div > div > div > div.resume-wrapper > div > div\n",
    "#HH-React-Root > div > div.bloko-columns-wrapper > div > div > div > div.resume-wrapper > div > div > \n",
    "#div.bloko-gap.bloko-gap_top > div:nth-child(1) > div.bloko-columns-row > \n",
    "#div.bloko-column.bloko-column_xs-4.bloko-column_s-3.bloko-column_m-3.bloko-column_l-3 > div > h2 > span"
   ]
  },
  {
   "cell_type": "code",
   "execution_count": 18,
   "metadata": {},
   "outputs": [],
   "source": [
    "soup6 = soup5.body.find_all('div', {'class': 'HH-MainContent HH-Supernova-MainContent'})[0].div.div"
   ]
  },
  {
   "cell_type": "code",
   "execution_count": 19,
   "metadata": {},
   "outputs": [],
   "source": [
    "soup7 = soup6.find_all('div', {'id': 'HH-React-Root'})[0]"
   ]
  },
  {
   "cell_type": "code",
   "execution_count": 33,
   "metadata": {},
   "outputs": [
    {
     "data": {
      "text/plain": [
       "'50\\u2009000\\xa0руб.'"
      ]
     },
     "execution_count": 33,
     "metadata": {},
     "output_type": "execute_result"
    }
   ],
   "source": [
    "soup5.findAll(\"span\", {\"class\":\"resume-block__salary resume-block__title-text_salary\"})[0].text"
   ]
  },
  {
   "cell_type": "code",
   "execution_count": 34,
   "metadata": {},
   "outputs": [],
   "source": [
    "def get_salary(url):\n",
    "    headers = {\"User-Agent\":\"Mozilla/5.0 (Macintosh; Intel Mac OS X 10_15_4) AppleWebKit/537.36 (KHTML, like Gecko) Chrome/83.0.4103.97 Safari/537.36\"}\n",
    "    r2 = requests.get(url, headers=headers)\n",
    "    if r2.ok:\n",
    "        soup5 = BeautifulSoup(r2.text)\n",
    "        if len(soup5.findAll(\"span\", {\"class\":\"resume-block__salary resume-block__title-text_salary\"})) > 0:\n",
    "            print(soup5.findAll(\"span\", {\"class\":\"resume-block__salary resume-block__title-text_salary\"})[0].text)\n",
    "            return(soup5.findAll(\"span\", {\"class\":\"resume-block__salary resume-block__title-text_salary\"})[0].text)\n",
    "        else:\n",
    "            print('There no salary')\n",
    "    else:\n",
    "        print('There no such url')\n",
    "        print(url)\n",
    "        return '0'"
   ]
  },
  {
   "cell_type": "code",
   "execution_count": 35,
   "metadata": {},
   "outputs": [
    {
     "name": "stdout",
     "output_type": "stream",
     "text": [
      "40 000 руб.\n"
     ]
    },
    {
     "data": {
      "text/plain": [
       "'40\\u2009000\\xa0руб.'"
      ]
     },
     "execution_count": 35,
     "metadata": {},
     "output_type": "execute_result"
    }
   ],
   "source": [
    "get_salary(new_urls[6])"
   ]
  },
  {
   "cell_type": "code",
   "execution_count": 36,
   "metadata": {},
   "outputs": [],
   "source": [
    "headers = {\"User-Agent\":\"Mozilla/5.0 (Macintosh; Intel Mac OS X 10_15_4) AppleWebKit/537.36 (KHTML, like Gecko) Chrome/83.0.4103.97 Safari/537.36\"}\n",
    "\n",
    "url = new_urls[0]\n",
    "r2 = requests.get(url, headers=headers)\n",
    "soup5 = BeautifulSoup(r2.text)"
   ]
  },
  {
   "cell_type": "code",
   "execution_count": null,
   "metadata": {},
   "outputs": [],
   "source": []
  },
  {
   "cell_type": "code",
   "execution_count": 55,
   "metadata": {},
   "outputs": [
    {
     "data": {
      "text/plain": [
       "'Консультация и продажа товаров Redmond ,работа на кассе . Прием и выкладка товара, ведение документации в 1С.'"
      ]
     },
     "execution_count": 55,
     "metadata": {},
     "output_type": "execute_result"
    }
   ],
   "source": [
    "#массив описаний с предыдущих работ. Тут таже не хватает одного вида варианта блоков\n",
    "soup5.findAll('div', {'data-qa' : 'resume-block-experience-description'})[0].text"
   ]
  },
  {
   "cell_type": "code",
   "execution_count": 38,
   "metadata": {},
   "outputs": [
    {
     "data": {
      "text/plain": [
       "18"
      ]
     },
     "execution_count": 38,
     "metadata": {},
     "output_type": "execute_result"
    }
   ],
   "source": [
    "#предыдущие места работы. Тут есть что-то лишнее, что обозначается одинаково, но при этом относится к 1 месту работы\n",
    "len(soup5.findAll('div', {'class' : 'resume-block__sub-title'}))"
   ]
  },
  {
   "cell_type": "code",
   "execution_count": 56,
   "metadata": {},
   "outputs": [],
   "source": [
    "#div.bloko-column.bloko-column_xs-4.bloko-column_s-2.bloko-column_m-2.bloko-column_l-2"
   ]
  },
  {
   "cell_type": "code",
   "execution_count": 39,
   "metadata": {},
   "outputs": [
    {
     "data": {
      "text/plain": [
       "'Февраль\\xa02020 — по\\xa0настоящее\\xa0время6\\xa0месяцев'"
      ]
     },
     "execution_count": 39,
     "metadata": {},
     "output_type": "execute_result"
    }
   ],
   "source": [
    "#время работы на каждой отдельной. Это лучше всего показывает количество работ (предыдущие 2 считат либо мало, либо много)\n",
    "soup5.findAll('div', {'class' : 'bloko-column bloko-column_xs-4 bloko-column_s-2 bloko-column_m-2 bloko-column_l-2'})[0].text"
   ]
  },
  {
   "cell_type": "code",
   "execution_count": 99,
   "metadata": {},
   "outputs": [
    {
     "data": {
      "text/plain": [
       "8"
      ]
     },
     "execution_count": 99,
     "metadata": {},
     "output_type": "execute_result"
    }
   ],
   "source": [
    "#тут заголовки. первый заголовок это время работы\n",
    "soup5.findAll('span', {'class' : 'resume-block__title-text resume-block__title-text_sub'})\n",
    "len(soup5.findAll('div', {'data-qa' : 'resume-block-experience'})[0].findAll('div', {'class' : 'bloko-column bloko-column_xs-4 bloko-column_s-2 bloko-column_m-2 bloko-column_l-2'}))"
   ]
  },
  {
   "cell_type": "code",
   "execution_count": 52,
   "metadata": {},
   "outputs": [
    {
     "name": "stdout",
     "output_type": "stream",
     "text": [
      "Работа с большим объемом информации\n",
      "Грамотная речь\n",
      "Учет товаров\n",
      "Проведение инвентаризаций\n",
      "Торговля\n",
      "оформление заказов\n"
     ]
    }
   ],
   "source": [
    "#собираем ключевые навыки\n",
    "key_skills = []\n",
    "for s in soup5.findAll('div', {'data-qa' : 'bloko-tag bloko-tag_inline'}):\n",
    "    print(s.span.text)\n",
    "    key_skills.append(s.span.text)"
   ]
  },
  {
   "cell_type": "code",
   "execution_count": 54,
   "metadata": {},
   "outputs": [
    {
     "data": {
      "text/plain": [
       "[<span class=\"resume-block__title-text resume-block__title-text_sub\">Опыт работы <!-- -->17<!-- --> <!-- -->лет<!-- --> <!-- -->10<!-- --> <!-- -->месяцев</span>,\n",
       " <span class=\"resume-block__title-text resume-block__title-text_sub\">Ключевые навыки</span>,\n",
       " <span class=\"resume-block__title-text resume-block__title-text_sub\">Обо мне</span>,\n",
       " <span class=\"resume-block__title-text resume-block__title-text_sub\">Среднее специальное образование</span>,\n",
       " <span class=\"resume-block__title-text resume-block__title-text_sub\">Знание языков</span>,\n",
       " <span class=\"resume-block__title-text resume-block__title-text_sub\">Повышение квалификации, курсы</span>,\n",
       " <span class=\"resume-block__title-text resume-block__title-text_sub\">Гражданство, время в пути до работы</span>]"
      ]
     },
     "execution_count": 54,
     "metadata": {},
     "output_type": "execute_result"
    }
   ],
   "source": [
    "#суть в том, что у многих часть из этих разделом может быть пустой, поэтому надо сначала проверять, что этот раздел есть, а потом нем что-то искать\n",
    "#также надо просто определить, что из этого нам надо, чтобы эту инфу собирать\n",
    "soup5.findAll('span', {'class' : 'resume-block__title-text resume-block__title-text_sub'})"
   ]
  },
  {
   "cell_type": "code",
   "execution_count": 122,
   "metadata": {},
   "outputs": [],
   "source": [
    "def get_info(url):\n",
    "    headers = {\"User-Agent\":\"Mozilla/5.0 (Macintosh; Intel Mac OS X 10_15_4) AppleWebKit/537.36 (KHTML, like Gecko) Chrome/83.0.4103.97 Safari/537.36\"}\n",
    "    r2 = requests.get(url, headers=headers)\n",
    "    soup5 = BeautifulSoup(r2.text)\n",
    "    \n",
    "    #массив описаний с предыдущих работ. Тут таже не хватает одного вида варианта блоков\n",
    "    desc_past_job = []\n",
    "    for tag in soup5.findAll('div', {'data-qa' : 'resume-block-experience-description'}):\n",
    "        desc_past_job.append(tag.text)\n",
    "    time_past_job = []\n",
    "    #время работы на каждой отдельной. Это лучше всего показывает количество работ (предыдущие считат либо мало, либо много)\n",
    "    #надо преобразовать в нормальный вид\n",
    "    for tag in soup5.findAll('div', {'data-qa' : 'resume-block-experience'})[0].findAll('div', {'class' : 'bloko-column bloko-column_xs-4 bloko-column_s-2 bloko-column_m-2 bloko-column_l-2'}):\n",
    "        time_past_job.append(tag.text)\n",
    "        print(time_past_job[-1])\n",
    "    #количество предыдущих работ\n",
    "    num_job = len(time_past_job)\n",
    "    print('Количество предыдущих работ ' + str(num_job))\n",
    "    print('')\n",
    "    #собираем ключевые навыки\n",
    "    key_skills = []\n",
    "    print(\"Ключевые навки\")\n",
    "    for s in soup5.findAll('div', {'data-qa' : 'bloko-tag bloko-tag_inline'}):\n",
    "        print(s.span.text)\n",
    "        key_skills.append(s.span.text)\n",
    "    #собираем образование\n",
    "    #тут пока все вместе и курсы и повышение квалификации. Чтобы разделить надо найдо соупы, где они разделяются\n",
    "    #также тут в обоих случаях есть тайтл и организация/описание\n",
    "    education = []\n",
    "    print('')\n",
    "    print('Образование')\n",
    "    for tag in soup5.findAll('div', {'data-qa' : 'resume-block-education-item'}):\n",
    "        title = tag.div.text\n",
    "        if (len(tag.find_all('div', {'data-qa': 'resume-block-education-organization'}))>0):\n",
    "            organisation = tag.find_all('div', {'data-qa': 'resume-block-education-organization'})[0].text\n",
    "        else:\n",
    "            organisation = ''\n",
    "        education.append((title, organisation))\n",
    "        print(education[-1])\n",
    "    "
   ]
  },
  {
   "cell_type": "code",
   "execution_count": 88,
   "metadata": {},
   "outputs": [
    {
     "data": {
      "text/plain": [
       "'УКЦ \"Престиж\" г.Ялта, Менеджер туризма и гостиничного бизнеса'"
      ]
     },
     "execution_count": 88,
     "metadata": {},
     "output_type": "execute_result"
    }
   ],
   "source": [
    "#тут пока все вместе и курсы и повышение квалификации. Чтобы разделить надо найдо соупы, где они разделяются\n",
    "#также тут в обоих случаях есть тайтл и описание, их можно разделить, первй лежит в .div\n",
    "soup5.findAll('div', {'data-qa' : 'resume-block-education-item'})[1].find_all('div', {'data-qa': 'resume-block-education-organization'})[0].text"
   ]
  },
  {
   "cell_type": "code",
   "execution_count": 102,
   "metadata": {},
   "outputs": [
    {
     "name": "stdout",
     "output_type": "stream",
     "text": [
      "Февраль 2020 — по настоящее время6 месяцев\n",
      "Сентябрь 2018 — Февраль 20201 год 6 месяцев\n",
      "Сентябрь 2017 — Март 20187 месяцев\n",
      "Март 2016 — Март 20171 год 1 месяц\n",
      "Октябрь 2015 — Февраль 20165 месяцев\n",
      "Июль 2011 — Февраль 20142 года 8 месяцев\n",
      "Май 2004 — Июнь 20117 лет 2 месяца\n",
      "Май 2000 — Май 20044 года 1 месяц\n",
      "Количество предыдущих работ 8\n",
      "\n",
      "Ключевые навки\n",
      "Работа с большим объемом информации\n",
      "Грамотная речь\n",
      "Учет товаров\n",
      "Проведение инвентаризаций\n",
      "Торговля\n",
      "оформление заказов\n",
      "\n",
      "Образование\n",
      "('муз.училище им.П.И.Чайковского г.Симферополь', 'струнный отдел, артист оркестра,преподаватель детских музыкальных школ')\n",
      "('Менеджмент туризма и гостиничного бизнеса', 'УКЦ \"Престиж\" г.Ялта, Менеджер туризма и гостиничного бизнеса')\n"
     ]
    }
   ],
   "source": [
    "get_info(new_urls[0])"
   ]
  },
  {
   "cell_type": "code",
   "execution_count": 123,
   "metadata": {},
   "outputs": [
    {
     "name": "stdout",
     "output_type": "stream",
     "text": [
      "\n",
      "SEPARATE\n",
      "https://hh.ru/resume/085211a50002f385090039ed1f72615a374c66?query=%D0%BF%D1%80%D0%BE%D0%B4%D0%B0%D0%B2%D0%B5%D1%86-%D0%BA%D0%BE%D0%BD%D1%81%D1%83%D0%BB%D1%8C%D1%82%D0%B0%D0%BD%D1%82&hhtmFrom=resumes_catalog&source=search\n",
      "\n",
      "Февраль 2020 — по настоящее время6 месяцев\n",
      "Сентябрь 2018 — Февраль 20201 год 6 месяцев\n",
      "Сентябрь 2017 — Март 20187 месяцев\n",
      "Март 2016 — Март 20171 год 1 месяц\n",
      "Октябрь 2015 — Февраль 20165 месяцев\n",
      "Июль 2011 — Февраль 20142 года 8 месяцев\n",
      "Май 2004 — Июнь 20117 лет 2 месяца\n",
      "Май 2000 — Май 20044 года 1 месяц\n",
      "Количество предыдущих работ 8\n",
      "\n",
      "Ключевые навки\n",
      "Работа с большим объемом информации\n",
      "Грамотная речь\n",
      "Учет товаров\n",
      "Проведение инвентаризаций\n",
      "Торговля\n",
      "оформление заказов\n",
      "\n",
      "Образование\n",
      "('муз.училище им.П.И.Чайковского г.Симферополь', 'струнный отдел, артист оркестра,преподаватель детских музыкальных школ')\n",
      "('Менеджмент туризма и гостиничного бизнеса', 'УКЦ \"Престиж\" г.Ялта, Менеджер туризма и гостиничного бизнеса')\n",
      "\n",
      "SEPARATE\n",
      "https://hh.ru/resume/6cfacd3b0007af3dc10039ed1f71354d68594a?query=%D0%BF%D1%80%D0%BE%D0%B4%D0%B0%D0%B2%D0%B5%D1%86-%D0%BA%D0%BE%D0%BD%D1%81%D1%83%D0%BB%D1%8C%D1%82%D0%B0%D0%BD%D1%82&hhtmFrom=resumes_catalog&source=search\n",
      "\n",
      "Июнь 2018 — Ноябрь 20186 месяцев\n",
      "Июнь 2016 — Июль 20162 месяца\n",
      "Количество предыдущих работ 2\n",
      "\n",
      "Ключевые навки\n",
      "Коммуникабельность\n",
      "Пунктуальность\n",
      "Стрессоустойчивость\n",
      "\n",
      "Образование\n",
      "('МТК', 'Газоэлектро сварка, Газоэлектро сварщик')\n",
      "\n",
      "SEPARATE\n",
      "https://hh.ru/resume/138184450006c4120e0039ed1f7233554f7569?query=%D0%BF%D1%80%D0%BE%D0%B4%D0%B0%D0%B2%D0%B5%D1%86-%D0%BA%D0%BE%D0%BD%D1%81%D1%83%D0%BB%D1%8C%D1%82%D0%B0%D0%BD%D1%82&hhtmFrom=resumes_catalog&source=search\n",
      "\n",
      "Декабрь 2017 — Февраль 20202 года 3 месяца\n",
      "Март 2017 — Октябрь 20178 месяцев\n",
      "Ноябрь 2015 — Февраль 20164 месяца\n",
      "Количество предыдущих работ 3\n",
      "\n",
      "Ключевые навки\n",
      "MS Word\n",
      "MS Excel\n",
      "1С: Бухгалтерия\n",
      "MS Office\n",
      "1С: Торговля и склад\n",
      "Internet\n",
      "MS PowerPoint\n",
      "Adobe Photoshop\n",
      "Пользователь ПК\n",
      "\n",
      "Образование\n",
      "('Воскресенский индустриальный техникум', 'Программист компьютерных сетей')\n",
      "\n",
      "SEPARATE\n",
      "https://hh.ru/resume/05cf2e7e00072dfcde0039ed1f703846413456?query=%D0%BF%D1%80%D0%BE%D0%B4%D0%B0%D0%B2%D0%B5%D1%86-%D0%BA%D0%BE%D0%BD%D1%81%D1%83%D0%BB%D1%8C%D1%82%D0%B0%D0%BD%D1%82&hhtmFrom=resumes_catalog&source=search\n",
      "\n",
      "Сентябрь 2018 — Июнь 201910 месяцев\n",
      "Февраль 2017 — Апрель 20192 года 3 месяца\n",
      "Количество предыдущих работ 2\n",
      "\n",
      "Ключевые навки\n",
      "Инкассация\n",
      "Активные продажи\n",
      "Работа с кассой\n",
      "Кассовые операции\n",
      "Пользователь ПК\n",
      "Коммуникабельность\n",
      "Консультирование\n",
      "Грамотная речь\n",
      "Доброжелательность\n",
      "Внимательность\n",
      "Работа в команде\n",
      "\n",
      "Образование\n",
      "('Колледж связи 54', '')\n",
      "\n",
      "SEPARATE\n",
      "https://hh.ru/resume/2353af8e0007c7353d0039ed1f7331496e7362?query=%D0%BF%D1%80%D0%BE%D0%B4%D0%B0%D0%B2%D0%B5%D1%86-%D0%BA%D0%BE%D0%BD%D1%81%D1%83%D0%BB%D1%8C%D1%82%D0%B0%D0%BD%D1%82&hhtmFrom=resumes_catalog&source=search\n",
      "\n",
      "Июль 2018 — по настоящее время2 года 1 месяц\n",
      "Апрель 2017 — Май 20181 год 2 месяца\n",
      "Количество предыдущих работ 2\n",
      "\n",
      "Ключевые навки\n",
      "Исполнительность\n",
      "Консультирование клиентов\n",
      "Работа в команде\n",
      "Работа с кассой\n",
      "Работа с возражениями\n",
      "Навыки продаж\n",
      "Организаторские навыки\n",
      "Кассовые операции\n",
      "Пользователь ПК\n",
      "Ответственность\n",
      "\n",
      "Образование\n",
      "('Институт теологии и международных отношений им. Маммадибира ар-Рочи, Махачкала', 'Иностранных языков , Лингвистика')\n",
      "('Архитектура и окрашивание бровей', 'Частное лицо, Бровист')\n",
      "\n",
      "SEPARATE\n",
      "https://hh.ru/resume/0ad663f90001a502bd0039ed1f6e734144496f?query=%D0%BF%D1%80%D0%BE%D0%B4%D0%B0%D0%B2%D0%B5%D1%86-%D0%BA%D0%BE%D0%BD%D1%81%D1%83%D0%BB%D1%8C%D1%82%D0%B0%D0%BD%D1%82&hhtmFrom=resumes_catalog&source=search\n",
      "\n",
      "Апрель 2020 — по настоящее время4 месяца\n",
      "Февраль 2020 — Апрель 20203 месяца\n",
      "Ноябрь 2019 — Февраль 20204 месяца\n",
      "Сентябрь 2018 — Ноябрь 20191 год 3 месяца\n",
      "Июнь 2015 — Сентябрь 20183 года 4 месяца\n",
      "Май 2010 — Июнь 20155 лет 2 месяца\n",
      "Количество предыдущих работ 6\n",
      "\n",
      "Ключевые навки\n",
      "MS Excel\n",
      "MS Outlook\n",
      "MS Word\n",
      "Активные продажи\n",
      "Английский язык\n",
      "Водительское удостоверение категории B\n",
      "Коммуникабельность\n",
      "легкообучаемость\n",
      "Управление персоналом\n",
      "Управление продажами\n",
      "Стрессоустойчивость\n",
      "1С: Бухгалтерия и склад\n",
      "1С: Документооборот\n",
      "\n",
      "Образование\n",
      "('Российская международная академия туризма, Москва', 'Институт менеджмента туризма, менеджер туризма')\n",
      "('1C', 'ООО «Умный Ритейл\", Товаровед')\n",
      "\n",
      "SEPARATE\n",
      "https://hh.ru/resume/76b8198600022043710039ed1f3053706c4d76?query=%D0%BF%D1%80%D0%BE%D0%B4%D0%B0%D0%B2%D0%B5%D1%86-%D0%BA%D0%BE%D0%BD%D1%81%D1%83%D0%BB%D1%8C%D1%82%D0%B0%D0%BD%D1%82&hhtmFrom=resumes_catalog&source=search\n",
      "\n",
      "Сентябрь 2018 — Март 20197 месяцев\n",
      "Июнь 2015 — Март 201610 месяцев\n",
      "Май 2013 — Декабрь 20141 год 8 месяцев\n",
      "Январь 2009 — Февраль 20134 года 2 месяца\n",
      "Количество предыдущих работ 4\n",
      "\n",
      "Ключевые навки\n",
      "Организованность, Коммуникабельность, Обучаемость, Стремление к повышению квалификации.\n",
      "\n",
      "Образование\n",
      "('Дополнительное профессиональное образование', 'Учебный центр ООО Фирма \"Директор\", Менеджер-организатор экономической деятельности')\n",
      "\n",
      "SEPARATE\n",
      "https://hh.ru/resume/ca1896d600081db6700039ed1f71494561436c?query=%D0%BF%D1%80%D0%BE%D0%B4%D0%B0%D0%B2%D0%B5%D1%86-%D0%BA%D0%BE%D0%BD%D1%81%D1%83%D0%BB%D1%8C%D1%82%D0%B0%D0%BD%D1%82&hhtmFrom=resumes_catalog&source=search\n",
      "\n",
      "Июнь 2018 — Сентябрь 20184 месяца\n",
      "Сентябрь 2014 — Февраль 20172 года 6 месяцев\n",
      "Июль 2011 — Сентябрь 20143 года 3 месяца\n",
      "Август 2009 — Июль 20112 года\n",
      "Количество предыдущих работ 4\n",
      "\n",
      "Ключевые навки\n",
      "Работа с возражениями\n",
      "\n",
      "Образование\n",
      "('ГОУ СПО Технологический колледж 34', 'Моделирование и конструирование одежды, Модельер-конструктор одежды')\n",
      "\n",
      "SEPARATE\n",
      "https://hh.ru/resume/72f31cf60007bb3bf40039ed1f687a75776b7a?query=%D0%BF%D1%80%D0%BE%D0%B4%D0%B0%D0%B2%D0%B5%D1%86-%D0%BA%D0%BE%D0%BD%D1%81%D1%83%D0%BB%D1%8C%D1%82%D0%B0%D0%BD%D1%82&hhtmFrom=resumes_catalog&source=search\n",
      "\n",
      "Август 2019 — Ноябрь 20194 месяца\n",
      "Количество предыдущих работ 1\n",
      "\n",
      "Ключевые навки\n",
      "Обучение и развитие\n",
      "Умение эффективно работать в команде\n",
      "\n",
      "Образование\n",
      "\n",
      "SEPARATE\n",
      "https://hh.ru/resume/305de5ae000723b9390039ed1f4b4c41716c6d?query=%D0%BF%D1%80%D0%BE%D0%B4%D0%B0%D0%B2%D0%B5%D1%86-%D0%BA%D0%BE%D0%BD%D1%81%D1%83%D0%BB%D1%8C%D1%82%D0%B0%D0%BD%D1%82&hhtmFrom=resumes_catalog&source=search\n",
      "\n",
      "Октябрь 2017 — Июнь 20191 год 9 месяцев\n",
      "Декабрь 2016 — Сентябрь 201710 месяцев\n",
      "Июль 2014 — Сентябрь 20162 года 3 месяца\n",
      "Июнь 2010 — Июнь 20144 года 1 месяц\n",
      "Март 2009 — Май 20101 год 3 месяца\n",
      "Количество предыдущих работ 5\n",
      "\n",
      "Ключевые навки\n",
      "Активные продажи\n",
      "опыт ведения переговоров \n",
      "Оценка стоимости автомобиля\n",
      "ПК опытный пользователь \n",
      "Ориентация на результат\n",
      "Управление персоналом\n",
      "Ответственность\n",
      "Быстрая обучаемость\n",
      "\n",
      "Образование\n",
      "('Курский институт менеджмента, экономики и бизнеса, Курск', 'Государственное и муниципальное управление, Управление и связь с общественностью ')\n",
      "\n",
      "SEPARATE\n",
      "https://hh.ru/resume/aae2143000064bdcaa0039ed1f47443868395a?query=%D0%BF%D1%80%D0%BE%D0%B4%D0%B0%D0%B2%D0%B5%D1%86-%D0%BA%D0%BE%D0%BD%D1%81%D1%83%D0%BB%D1%8C%D1%82%D0%B0%D0%BD%D1%82&hhtmFrom=resumes_catalog&source=search\n",
      "\n",
      "Апрель 2019 — Апрель 20201 год 1 месяц\n",
      "Апрель 2018 — Декабрь 20189 месяцев\n",
      "Май 2014 — Апрель 20184 года\n",
      "Май 2006 — Декабрь 20137 лет 8 месяцев\n",
      "Количество предыдущих работ 4\n",
      "\n",
      "Ключевые навки\n",
      "Консультирование\n",
      "Активные продажи\n",
      "Навыки продаж\n",
      "Торговля\n",
      "Работа с людьми\n",
      "Личные продажи\n",
      "Был опыт , продаж ювелирных изделий.\n",
      "\n",
      "Образование\n",
      "('школа №6', '')\n",
      "\n",
      "SEPARATE\n",
      "https://hh.ru/resume/b3a390a80005919c6d0039ed1f775133594e41?query=%D0%BF%D1%80%D0%BE%D0%B4%D0%B0%D0%B2%D0%B5%D1%86-%D0%BA%D0%BE%D0%BD%D1%81%D1%83%D0%BB%D1%8C%D1%82%D0%B0%D0%BD%D1%82&hhtmFrom=resumes_catalog&source=search\n",
      "\n",
      "Июнь 2013 — Июнь 20207 лет 1 месяц\n",
      "Октябрь 2010 — Май 20132 года 8 месяцев\n",
      "Февраль 2003 — Август 20107 лет 7 месяцев\n",
      "Количество предыдущих работ 3\n",
      "\n",
      "Ключевые навки\n",
      "Консультирование\n",
      "Работа с кассой\n",
      "Работа в команде\n",
      "Грамотная речь\n",
      "Выкладка товаров\n",
      "Консультативные продажи\n",
      "Консультирование клиентов по телефону\n",
      "Навыки межличностного общения\n",
      "Торговля\n",
      "Проведение инвентаризаций\n",
      "Материальная отвественность\n",
      "Способность обучать других\n",
      "Опыт продаж\n",
      "Работа с людьми\n",
      "Точность и внимательность к деталям\n",
      "Деловое общение\n",
      "Ведение переговоров\n",
      "Активные продажи\n",
      "Организаторские навыки\n",
      "Управление персоналом\n",
      "Навыки продаж\n",
      "Поиск и привлечение клиентов\n",
      "Обучение персонала\n",
      "\n",
      "Образование\n",
      "('СПТУ №4', '-, Монтажник радиоэлектронной аппаратуры')\n",
      "\n",
      "SEPARATE\n",
      "https://hh.ru/resume/6acb757a00015cc1130039ed1f57614e747369?query=%D0%BF%D1%80%D0%BE%D0%B4%D0%B0%D0%B2%D0%B5%D1%86-%D0%BA%D0%BE%D0%BD%D1%81%D1%83%D0%BB%D1%8C%D1%82%D0%B0%D0%BD%D1%82&hhtmFrom=resumes_catalog&source=search\n",
      "\n"
     ]
    },
    {
     "name": "stdout",
     "output_type": "stream",
     "text": [
      "Апрель 2017 — по настоящее время3 года 4 месяца\n",
      "Июнь 2013 — Октябрь 20152 года 5 месяцев\n",
      "Август 2012 — Июнь 201311 месяцев\n",
      "Январь 2010 — Июнь 20122 года 6 месяцев\n",
      "Июнь 2005 — Сентябрь 20094 года 4 месяца\n",
      "Количество предыдущих работ 5\n",
      "\n",
      "Ключевые навки\n",
      "Пользователь ПК\n",
      "Подготовка коммерческих предложений\n",
      "Водительское удостоверение категории B\n",
      "1С: Торговля и склад\n",
      "Консультативные продажи\n",
      "Прямые продажи\n",
      "Ориентация на результат\n",
      "Ведение переговоров\n",
      "Организаторские навыки\n",
      "снабжение\n",
      "Знание устройства автомобиля\n",
      "\n",
      "Образование\n",
      "('ФГБО УВПО МГУ им. Н.П ОГАРЕВА', 'экономический, Финансы и кредит')\n",
      "('Темниковский сельско хозяйственный колледж', 'Бухгалтерский, бухгалтер')\n",
      "('ЧОУ ДПО \"Саранский Дом науки и техники РСНИИОО\"', 'ЧОУ ДПО \"Саранский Дом науки и техники РСНИИОО\", \"Специалист, ответственный за обеспечение безопасности дорожного движения\"')\n",
      "('Минестерство транспорта РФ', 'Федеральная служба по надзору в сфере транспорта, Прошел обучение по обеспечению безопасности дорожного движения на автомобильном транспорте')\n",
      "\n",
      "SEPARATE\n",
      "https://hh.ru/resume/c555c08c00052685480039ed1f44525a765833?query=%D0%BF%D1%80%D0%BE%D0%B4%D0%B0%D0%B2%D0%B5%D1%86-%D0%BA%D0%BE%D0%BD%D1%81%D1%83%D0%BB%D1%8C%D1%82%D0%B0%D0%BD%D1%82&hhtmFrom=resumes_catalog&source=search\n",
      "\n",
      "Июль 2019 — Август 20192 месяца\n",
      "Количество предыдущих работ 1\n",
      "\n",
      "Ключевые навки\n",
      "\n",
      "Образование\n",
      "('РТУ МИРЭА', 'Институт инновационных технологий и государственного управления, Экономический ')\n",
      "\n",
      "SEPARATE\n",
      "https://hh.ru/resume/0f731786000762d46a0039ed1f324138615032?query=%D0%BF%D1%80%D0%BE%D0%B4%D0%B0%D0%B2%D0%B5%D1%86-%D0%BA%D0%BE%D0%BD%D1%81%D1%83%D0%BB%D1%8C%D1%82%D0%B0%D0%BD%D1%82&hhtmFrom=resumes_catalog&source=search\n",
      "\n",
      "Октябрь 2019 — Июнь 20209 месяцев\n",
      "Май 2018 — Октябрь 20191 год 6 месяцев\n",
      "Количество предыдущих работ 2\n",
      "\n",
      "Ключевые навки\n",
      "отличные знания ассортимента\n",
      "умение находить контакт с любым покупателем\n",
      "знание кассовой дисциплины, правил приёма и выдачи денежных средств\n",
      "умение работать в команде и достигать совместных результатов\n",
      "знание правил торговли и закона о защите прав потребителей\n",
      "\n",
      "Образование\n",
      "('Санкт-Петербургский государственный университет телекоммуникаций им. проф. М.А. Бонч-Бруевича, Санкт-Петербург', 'Институт непрерывного образования, Информационные системы и технологии (инженер)')\n",
      "\n",
      "SEPARATE\n",
      "https://hh.ru/resume/05f8f6360006a255ce0039ed1f786c77653742?query=%D0%BF%D1%80%D0%BE%D0%B4%D0%B0%D0%B2%D0%B5%D1%86-%D0%BA%D0%BE%D0%BD%D1%81%D1%83%D0%BB%D1%8C%D1%82%D0%B0%D0%BD%D1%82&hhtmFrom=resumes_catalog&source=search\n",
      "\n",
      "Сентябрь 2019 — Ноябрь 20193 месяца\n",
      "Май 2019 — Август 20194 месяца\n",
      "Февраль 2019 — Май 20194 месяца\n",
      "Июнь 2017 — Октябрь 20175 месяцев\n",
      "Октябрь 2016 — Май 20178 месяцев\n",
      "Март 2016 — Сентябрь 20167 месяцев\n",
      "Июль 2014 — Август 20162 года 2 месяца\n",
      "Количество предыдущих работ 7\n",
      "\n",
      "Ключевые навки\n",
      "Ответственность\n",
      "Пунктуальность\n",
      "Целеустремленность\n",
      "Решительность\n",
      "Стрессоустойчивость\n",
      "Быстрая обучаемость\n",
      "Тактичность\n",
      "\n",
      "Образование\n",
      "('ГАПОУ МОК им. В Талалихина', 'Экономика и Бухгалтерский учёт, Коммерция (торговое дело)')\n",
      "\n",
      "SEPARATE\n",
      "https://hh.ru/resume/4f85483f00051352750039ed1f777345637978?query=%D0%BF%D1%80%D0%BE%D0%B4%D0%B0%D0%B2%D0%B5%D1%86-%D0%BA%D0%BE%D0%BD%D1%81%D1%83%D0%BB%D1%8C%D1%82%D0%B0%D0%BD%D1%82&hhtmFrom=resumes_catalog&source=search\n",
      "\n",
      "Июль 2019 — Август 20192 месяца\n",
      "Количество предыдущих работ 1\n",
      "\n",
      "Ключевые навки\n",
      "Коммуникабельность\n",
      "Опыт личностного общения и успешных продаж\n",
      "Грамотная устная речь\n",
      "Хорошо поставленный голос\n",
      "Способность быстро обучаться и легко воспринимать крупные объемы информации\n",
      "\n",
      "Образование\n",
      "\n",
      "SEPARATE\n",
      "https://hh.ru/resume/993bd31a0005d5eef50039ed1f394b31333861?query=%D0%BF%D1%80%D0%BE%D0%B4%D0%B0%D0%B2%D0%B5%D1%86-%D0%BA%D0%BE%D0%BD%D1%81%D1%83%D0%BB%D1%8C%D1%82%D0%B0%D0%BD%D1%82&hhtmFrom=resumes_catalog&source=search\n",
      "\n",
      "Ноябрь 2018 — по настоящее время1 год 9 месяцев\n",
      "Март 2017 — Июль 20181 год 5 месяцев\n",
      "Август 2016 — Март 20178 месяцев\n",
      "Сентябрь 2015 — Август 20161 год\n",
      "Май 2013 — Сентябрь 20152 года 5 месяцев\n",
      "Декабрь 2011 — Апрель 20131 год 5 месяцев\n",
      "Ноябрь 2010 — Декабрь 20111 год 2 месяца\n",
      "Количество предыдущих работ 7\n",
      "\n",
      "Ключевые навки\n",
      "Управление персоналом\n",
      "Товароведение\n",
      "Работа с кассой\n",
      "Организаторские навыки\n",
      "Обучение персонала\n",
      "Проведение инвентаризаций\n",
      "Работа в команде\n",
      "Розничная торговля\n",
      "Ориентация на результат\n",
      "\n",
      "Образование\n",
      "('Ивановский государственный политехнический университет', 'Менеджмент')\n",
      "\n",
      "SEPARATE\n",
      "https://hh.ru/resume/ae08164600060c68d50039ed1f6a6242797946?query=%D0%BF%D1%80%D0%BE%D0%B4%D0%B0%D0%B2%D0%B5%D1%86-%D0%BA%D0%BE%D0%BD%D1%81%D1%83%D0%BB%D1%8C%D1%82%D0%B0%D0%BD%D1%82&hhtmFrom=resumes_catalog&source=search\n",
      "\n",
      "Июнь 2018 — по настоящее время2 года 2 месяца\n",
      "Август 2019 — Июнь 202011 месяцев\n",
      "Февраль 2017 — Июнь 20175 месяцев\n",
      "Количество предыдущих работ 3\n",
      "\n",
      "Ключевые навки\n",
      "\n",
      "Образование\n",
      "('ГБПУ МО НФТ ', 'Энергетика , Электромонтёр ')\n",
      "\n",
      "SEPARATE\n",
      "https://hh.ru/resume/879f112a000735f3210039ed1f3630717a3350?query=%D0%BF%D1%80%D0%BE%D0%B4%D0%B0%D0%B2%D0%B5%D1%86-%D0%BA%D0%BE%D0%BD%D1%81%D1%83%D0%BB%D1%8C%D1%82%D0%B0%D0%BD%D1%82&hhtmFrom=resumes_catalog&source=search\n",
      "\n",
      "Ноябрь 2019 — Февраль 20204 месяца\n",
      "Август 2019 — Октябрь 20193 месяца\n",
      "Количество предыдущих работ 2\n",
      "\n",
      "Ключевые навки\n",
      "Наличие успешного опыта в продажах\n",
      "Грамотная речь\n",
      "Творческий подход\n",
      "Быстрая обучаемость\n",
      "Способность к завоеванию доверия\n",
      "Энергичность\n",
      "\n",
      "Образование\n",
      "('ЭБК', 'Банковское дело')\n"
     ]
    }
   ],
   "source": [
    "for url in new_urls:\n",
    "    print('')\n",
    "    print('SEPARATE')\n",
    "    print(url)\n",
    "    print('')\n",
    "    get_info(url)"
   ]
  },
  {
   "cell_type": "code",
   "execution_count": 117,
   "metadata": {},
   "outputs": [],
   "source": [
    "url = 'https://hh.ru/resume/305de5ae000723b9390039ed1f4b4c41716c6d?query=продавец-консультант&hhtmFrom=resumes_catalog&source=search'"
   ]
  },
  {
   "cell_type": "code",
   "execution_count": 118,
   "metadata": {},
   "outputs": [],
   "source": [
    "headers = {\"User-Agent\":\"Mozilla/5.0 (Macintosh; Intel Mac OS X 10_15_4) AppleWebKit/537.36 (KHTML, like Gecko) Chrome/83.0.4103.97 Safari/537.36\"}\n",
    "\n",
    "r2 = requests.get(url, headers=headers)\n",
    "soup5 = BeautifulSoup(r2.text)"
   ]
  },
  {
   "cell_type": "code",
   "execution_count": 119,
   "metadata": {},
   "outputs": [
    {
     "data": {
      "text/plain": [
       "'Государственное и муниципальное управление, Управление и связь с общественностью '"
      ]
     },
     "execution_count": 119,
     "metadata": {},
     "output_type": "execute_result"
    }
   ],
   "source": [
    "soup5.findAll('div', {'data-qa' : 'resume-block-education-item'})[0].find_all('div', {'data-qa': 'resume-block-education-organization'})[0].text"
   ]
  },
  {
   "cell_type": "code",
   "execution_count": 120,
   "metadata": {},
   "outputs": [
    {
     "name": "stdout",
     "output_type": "stream",
     "text": [
      "Октябрь 2017 — Июнь 20191 год 9 месяцев\n",
      "Декабрь 2016 — Сентябрь 201710 месяцев\n",
      "Июль 2014 — Сентябрь 20162 года 3 месяца\n",
      "Июнь 2010 — Июнь 20144 года 1 месяц\n",
      "Март 2009 — Май 20101 год 3 месяца\n",
      "Количество предыдущих работ 5\n",
      "\n",
      "Ключевые навки\n",
      "Активные продажи\n",
      "опыт ведения переговоров \n",
      "Оценка стоимости автомобиля\n",
      "ПК опытный пользователь \n",
      "Ориентация на результат\n",
      "Управление персоналом\n",
      "Ответственность\n",
      "Быстрая обучаемость\n",
      "\n",
      "Образование\n",
      "('Курский институт менеджмента, экономики и бизнеса, Курск', 'Государственное и муниципальное управление, Управление и связь с общественностью ')\n"
     ]
    }
   ],
   "source": [
    "get_info(url)"
   ]
  }
 ],
 "metadata": {
  "kernelspec": {
   "display_name": "Python 3",
   "language": "python",
   "name": "python3"
  },
  "language_info": {
   "codemirror_mode": {
    "name": "ipython",
    "version": 3
   },
   "file_extension": ".py",
   "mimetype": "text/x-python",
   "name": "python",
   "nbconvert_exporter": "python",
   "pygments_lexer": "ipython3",
   "version": "3.7.6"
  }
 },
 "nbformat": 4,
 "nbformat_minor": 4
}
