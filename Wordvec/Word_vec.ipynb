{
 "cells": [
  {
   "cell_type": "markdown",
   "metadata": {},
   "source": [
    "В данном ноутбуке будет произведен семантический анализ описания вакансии и выделение ключевых навыков"
   ]
  },
  {
   "cell_type": "code",
   "execution_count": 1,
   "metadata": {},
   "outputs": [],
   "source": [
    "import sys\n",
    "import gensim, logging\n",
    "from pymystem3 import Mystem\n",
    "import wget\n",
    "import zipfile\n",
    "from collections import Counter\n",
    "import pandas as pd\n",
    "\n",
    "logging.basicConfig(format='%(asctime)s : %(levelname)s : %(message)s', level=logging.INFO)"
   ]
  },
  {
   "cell_type": "code",
   "execution_count": 2,
   "metadata": {},
   "outputs": [],
   "source": [
    "udpipe_url = 'https://rusvectores.org/static/models/udpipe_syntagrus.model'\n",
    "model_url = 'http://vectors.nlpl.eu/repository/11/180.zip'"
   ]
  },
  {
   "cell_type": "markdown",
   "metadata": {},
   "source": [
    "Для загрузки модели надо запустить следующие 2 ячейки"
   ]
  },
  {
   "cell_type": "code",
   "execution_count": 4,
   "metadata": {},
   "outputs": [
    {
     "name": "stdout",
     "output_type": "stream",
     "text": [
      "100% [........................................................................] 40616122 / 40616122"
     ]
    }
   ],
   "source": [
    "#запускать 1 раз. Грузит модель\n",
    "modelfile = wget.download(udpipe_url)"
   ]
  },
  {
   "cell_type": "code",
   "execution_count": 7,
   "metadata": {},
   "outputs": [],
   "source": [
    "#запускать 1 раз. Грузит другую модель\n",
    "m = wget.download(model_url)\n",
    "model_file = model_url.split('/')[-1]"
   ]
  },
  {
   "cell_type": "markdown",
   "metadata": {},
   "source": [
    "Создаем модель"
   ]
  },
  {
   "cell_type": "code",
   "execution_count": null,
   "metadata": {},
   "outputs": [],
   "source": [
    "model_url = 'http://vectors.nlpl.eu/repository/11/180.zip'\n",
    "model_file = model_url.split('/')[-1]\n",
    "with zipfile.ZipFile(model_file, 'r') as archive:\n",
    "    stream = archive.open('model.bin')\n",
    "    model = gensim.models.KeyedVectors.load_word2vec_format(stream, binary=True)"
   ]
  },
  {
   "cell_type": "markdown",
   "metadata": {},
   "source": [
    "Обрабатываем строки и получаем текст в нужном моделе формате"
   ]
  },
  {
   "cell_type": "code",
   "execution_count": null,
   "metadata": {},
   "outputs": [],
   "source": [
    "def process(pipeline, text='Строка', keep_pos=True, keep_punct=False):\n",
    "    entities = {'PROPN'}\n",
    "    named = False\n",
    "    memory = []\n",
    "    mem_case = None\n",
    "    mem_number = None\n",
    "    tagged_propn = []\n",
    "\n",
    "    # обрабатываем текст, получаем результат в формате conllu:\n",
    "    processed = pipeline.process(text)\n",
    "\n",
    "    # пропускаем строки со служебной информацией:\n",
    "    content = [l for l in processed.split('\\n') if not l.startswith('#')]\n",
    "\n",
    "    # извлекаем из обработанного текста леммы, тэги и морфологические характеристики\n",
    "    tagged = [w.split('\\t') for w in content if w]\n",
    "\n",
    "    for t in tagged:\n",
    "        if len(t) != 10:\n",
    "            continue\n",
    "        (word_id, token, lemma, pos, xpos, feats, head, deprel, deps, misc) = t\n",
    "        token = clean_token(token, misc)\n",
    "        lemma = clean_lemma(lemma, pos)\n",
    "        if not lemma or not token:\n",
    "            continue\n",
    "        if pos in entities:\n",
    "            if '|' not in feats:\n",
    "                tagged_propn.append('%s_%s' % (lemma, pos))\n",
    "                continue\n",
    "            morph = {el.split('=')[0]: el.split('=')[1] for el in feats.split('|')}\n",
    "            if 'Case' not in morph or 'Number' not in morph:\n",
    "                tagged_propn.append('%s_%s' % (lemma, pos))\n",
    "                continue\n",
    "            if not named:\n",
    "                named = True\n",
    "                mem_case = morph['Case']\n",
    "                mem_number = morph['Number']\n",
    "            if morph['Case'] == mem_case and morph['Number'] == mem_number:\n",
    "                memory.append(lemma)\n",
    "                if 'SpacesAfter=\\\\n' in misc or 'SpacesAfter=\\s\\\\n' in misc:\n",
    "                    named = False\n",
    "                    past_lemma = '::'.join(memory)\n",
    "                    memory = []\n",
    "                    tagged_propn.append(past_lemma + '_PROPN ')\n",
    "            else:\n",
    "                named = False\n",
    "                past_lemma = '::'.join(memory)\n",
    "                memory = []\n",
    "                tagged_propn.append(past_lemma + '_PROPN ')\n",
    "                tagged_propn.append('%s_%s' % (lemma, pos))\n",
    "        else:\n",
    "            if not named:\n",
    "                if pos == 'NUM' and token.isdigit():  # Заменяем числа на xxxxx той же длины\n",
    "                    lemma = num_replace(token)\n",
    "                tagged_propn.append('%s_%s' % (lemma, pos))\n",
    "            else:\n",
    "                named = False\n",
    "                past_lemma = '::'.join(memory)\n",
    "                memory = []\n",
    "                tagged_propn.append(past_lemma + '_PROPN ')\n",
    "                tagged_propn.append('%s_%s' % (lemma, pos))\n",
    "\n",
    "    if not keep_punct:\n",
    "        tagged_propn = [word for word in tagged_propn if word.split('_')[1] != 'PUNCT']\n",
    "    if not keep_pos:\n",
    "        tagged_propn = [word.split('_')[0] for word in tagged_propn]\n",
    "    return tagged_propn"
   ]
  },
  {
   "cell_type": "code",
   "execution_count": null,
   "metadata": {},
   "outputs": [],
   "source": [
    "import requests\n",
    "import re\n",
    "\n",
    "url = 'https://raw.githubusercontent.com/akutuzov/universal-pos-tags/4653e8a9154e93fe2f417c7fdb7a357b7d6ce333/ru-rnc.map'\n",
    "\n",
    "mapping = {}\n",
    "r = requests.get(url, stream=True)\n",
    "for pair in r.text.split('\\n'):\n",
    "    pair = re.sub('\\s+', ' ', pair, flags=re.U).split(' ')\n",
    "    if len(pair) > 1:\n",
    "        mapping[pair[0]] = pair[1]\n",
    "\n",
    "print(mapping)"
   ]
  },
  {
   "cell_type": "code",
   "execution_count": null,
   "metadata": {},
   "outputs": [],
   "source": [
    "from ufal.udpipe import Model, Pipeline\n",
    "import os\n",
    "import re\n",
    "\n",
    "def tag_ud(text='Текст нужно передать функции в виде строки!', modelfile='udpipe_syntagrus.model'):\n",
    "    udpipe_model_url = 'https://rusvectores.org/static/models/udpipe_syntagrus.model'\n",
    "    udpipe_filename = udpipe_model_url.split('/')[-1]\n",
    "\n",
    "    if not os.path.isfile(modelfile):\n",
    "        print('UDPipe model not found. Downloading...', file=sys.stderr)\n",
    "        wget.download(udpipe_model_url)\n",
    "\n",
    "    print('\\nLoading the model...', file=sys.stderr)\n",
    "    model = Model.load(modelfile)\n",
    "    process_pipeline = Pipeline(model, 'tokenize', Pipeline.DEFAULT, Pipeline.DEFAULT, 'conllu')\n",
    "\n",
    "    print('Processing input...', file=sys.stderr)\n",
    "    for line in text:\n",
    "        line = unify_sym(line.strip())\n",
    "        output = process(process_pipeline, text=line)\n",
    "        print(' '.join(output))"
   ]
  },
  {
   "cell_type": "code",
   "execution_count": null,
   "metadata": {},
   "outputs": [],
   "source": [
    "def tag_mystem(text='Текст нужно передать функции в виде строки!'):  \n",
    "    m = Mystem()\n",
    "    processed = m.analyze(text)\n",
    "    tagged = []\n",
    "    for w in processed:\n",
    "        try:\n",
    "            lemma = w[\"analysis\"][0][\"lex\"].lower().strip()\n",
    "            pos = w[\"analysis\"][0][\"gr\"].split(',')[0]\n",
    "            pos = pos.split('=')[0].strip()\n",
    "            if pos in mapping:\n",
    "                tagged.append(lemma + '_' + mapping[pos]) # здесь мы конвертируем тэги\n",
    "            else:\n",
    "                tagged.append(lemma + '_X') # на случай, если попадется тэг, которого нет в маппинге\n",
    "        except KeyError:\n",
    "            continue # пропускаем знаки препинания\n",
    "        except IndexError:\n",
    "            continue\n",
    "    return tagged"
   ]
  },
  {
   "cell_type": "markdown",
   "metadata": {},
   "source": [
    "Пишем функцию для анализа всего текста"
   ]
  },
  {
   "cell_type": "code",
   "execution_count": null,
   "metadata": {},
   "outputs": [],
   "source": [
    "def find_skills(skill_list, description_row):\n",
    "    finale_skills = []\n",
    "    correlation_rate = 0.4\n",
    "    description = tag_mystem(text=description_row)\n",
    "    for word in description:\n",
    "        if not word in model:\n",
    "            description.remove(word)\n",
    "    for skill in skill_list:\n",
    "        for word in description:\n",
    "            if (word in model) and (model.similarity(skill, word) > correlation_rate):\n",
    "                finale_skills.append((skill, word))\n",
    "    return finale_skills"
   ]
  },
  {
   "cell_type": "markdown",
   "metadata": {},
   "source": [
    "Загружаем данные и переводим навыки в хороший вид. В дальнейшем их можно будет также прогнать через алгоритм, чтобы понять к какому именно кластеру они относятся"
   ]
  },
  {
   "cell_type": "code",
   "execution_count": null,
   "metadata": {},
   "outputs": [],
   "source": [
    "df = pd.read_csv('data.csv', sep=';', index_col=0)"
   ]
  },
  {
   "cell_type": "code",
   "execution_count": null,
   "metadata": {},
   "outputs": [],
   "source": [
    "df['skill'] = df['key_skills'].apply(tag_mystem)"
   ]
  },
  {
   "cell_type": "code",
   "execution_count": null,
   "metadata": {},
   "outputs": [],
   "source": [
    "skills = 'общительность трудолюбие аккуратность опрятность стрессоустойчивость пунктуальность ответственность выносливость исполнительность креативность творческий инженерный внимательность коммуникабельность точность программирование сварка грамотность английский этика фармацевтика дружелюбность сообразительность результативность уравновешенность пк исполнительность самостоятельность инициативность' "
   ]
  },
  {
   "cell_type": "code",
   "execution_count": null,
   "metadata": {},
   "outputs": [],
   "source": [
    "good_skills = tag_mystem(text = skills)"
   ]
  },
  {
   "cell_type": "markdown",
   "metadata": {},
   "source": [
    "Удаляем все слова, которых нет в модели"
   ]
  },
  {
   "cell_type": "code",
   "execution_count": 18,
   "metadata": {},
   "outputs": [],
   "source": [
    "for i in good_skills:\n",
    "    if not i in model:\n",
    "        good_skills.remove(i)"
   ]
  },
  {
   "cell_type": "markdown",
   "metadata": {},
   "source": [
    "Все, в целом навыки собраны, осталось только просутить их через алгоритм по аналогии с описанием (см. дальше)"
   ]
  },
  {
   "cell_type": "markdown",
   "metadata": {},
   "source": [
    "Переходим к анализу описания. Чтобы избежать случайных совпадений, мы будем брать только те навыки, которые употребляются часто. Следующие 2 ячейки работают очень долго, но результаты есть внизу"
   ]
  },
  {
   "cell_type": "code",
   "execution_count": 19,
   "metadata": {},
   "outputs": [],
   "source": [
    "def finale_skills(description_row):\n",
    "    sk0 = find_skills(good_skills, str(description_row))\n",
    "    sk1 = list(map(lambda x: x[0], sk0))\n",
    "    nums = Counter(sk1)\n",
    "    sum_val = 0\n",
    "    res = []\n",
    "    array = list(nums.keys())\n",
    "    for skill in array:\n",
    "        sum_val += nums[skill]\n",
    "    div = len(array)\n",
    "    if len(array) == 0:\n",
    "        div = 1\n",
    "    avarage = sum_val / div\n",
    "    for skill in array:\n",
    "        if nums[skill] >= avarage:\n",
    "            res.append(skill)\n",
    "    return res"
   ]
  },
  {
   "cell_type": "code",
   "execution_count": 20,
   "metadata": {},
   "outputs": [],
   "source": [
    "df['skills_from_descriprion'] = df['description'].apply(finale_skills)"
   ]
  },
  {
   "cell_type": "code",
   "execution_count": 21,
   "metadata": {},
   "outputs": [],
   "source": [
    "for skill in good_skills:\n",
    "    df[skill] = df['skills_from_descriprion'].apply(lambda x: int(skill in x))"
   ]
  },
  {
   "cell_type": "markdown",
   "metadata": {},
   "source": [
    "Теперь посмотрим на частоту распространения навыков. Если какие-то будут слишком распространены, или же вовсе не встретятся, то мы их удалим."
   ]
  },
  {
   "cell_type": "code",
   "execution_count": 35,
   "metadata": {},
   "outputs": [
    {
     "data": {
      "text/plain": [
       "трудолюбие_NOUN            0.1875\n",
       "аккуратность_NOUN          0.1000\n",
       "опрятность_NOUN            0.0250\n",
       "пунктуальность_NOUN        0.0750\n",
       "ответственность_NOUN       0.4000\n",
       "выносливость_NOUN          0.0500\n",
       "исполнительность_NOUN      0.4750\n",
       "креативность_NOUN          0.0125\n",
       "творческий_ADJ             0.4625\n",
       "инженерный_ADJ             0.3000\n",
       "внимательность_NOUN        0.1375\n",
       "коммуникабельность_NOUN    0.1625\n",
       "точность_NOUN              0.0250\n",
       "программирование_NOUN      0.3875\n",
       "сварка_NOUN                0.2875\n",
       "электрик_NOUN              0.0000\n",
       "грамотность_NOUN           0.1875\n",
       "английский_ADJ             0.0000\n",
       "этика_NOUN                 0.1875\n",
       "фармацевтика_NOUN          0.1250\n",
       "образование_NOUN           0.7250\n",
       "сообразительность_NOUN     0.1375\n",
       "результативность_NOUN      0.1500\n",
       "серьезность_NOUN           0.0000\n",
       "уравновешенность_NOUN      0.0625\n",
       "пк_NOUN                    0.0000\n",
       "исполнительность_NOUN      0.4750\n",
       "самостоятельность_NOUN     0.1250\n",
       "инициативность_NOUN        0.1875\n",
       "dtype: float64"
      ]
     },
     "execution_count": 35,
     "metadata": {},
     "output_type": "execute_result"
    }
   ],
   "source": [
    "(df[good_skills].sum()/df.shape[0])"
   ]
  },
  {
   "cell_type": "markdown",
   "metadata": {},
   "source": [
    "Теперь сгруппируем все признаки по 8 основным группам"
   ]
  },
  {
   "cell_type": "code",
   "execution_count": 67,
   "metadata": {},
   "outputs": [],
   "source": [
    "#тут ручками объединяем группы, которые не видит алгоритм. В реальности, если мы хорошо натренируем собственную модель, то это будет не нужно\n",
    "creativity= 'креативность_NOUN творческий_ADJ'.split()\n",
    "hard_work = 'выносливость_NOUN трудолюбие_NOUN результативность_NOUN исполнительность_NOUN'.split()\n",
    "accuracy = 'точность_NOUN внимательность_NOUN пунктуальность_NOUN аккуратность_NOUN'.split()\n",
    "leader = 'инициативность_NOUN самостоятельность_NOUN ответственность_NOUN'.split()\n",
    "computer = 'пк_NOUN программирование_NOUN'.split()\n",
    "mind_tech = 'сообразительность_NOUN инженерный_ADJ'.split()\n",
    "communication = 'общмительность_NOUN этика_NOUN коммуникабельность_NOUN опрятность_NOUN уравновешенность_NOUN'.split()\n",
    "language = 'английский_ADJ грамотность_NOUN'.split()"
   ]
  },
  {
   "cell_type": "markdown",
   "metadata": {},
   "source": [
    "Теперь сожмем навыки из таблицы в эти 8 категорий"
   ]
  },
  {
   "cell_type": "code",
   "execution_count": 79,
   "metadata": {},
   "outputs": [],
   "source": [
    "finale_skills = []\n",
    "\n",
    "def compress(name, columns):\n",
    "    df[name] =  0\n",
    "    for col in columns:\n",
    "        df[name] += df[col]\n",
    "    df[name + '_num'] = (df[name] > 0).apply(lambda x: int(x))\n",
    "    finale_skills.append(name + '_num')\n",
    "    return df.drop(name, axis=1)"
   ]
  },
  {
   "cell_type": "code",
   "execution_count": 80,
   "metadata": {},
   "outputs": [],
   "source": [
    "df = compress('creativity', creativity)\n",
    "df = compress('hard_work', hard_work)\n",
    "df = compress('accuracy', accuracy)\n",
    "df = compress('leader', leader)\n",
    "df = compress('computer', computer)\n",
    "df = compress('mind_tech', mind_tech)\n",
    "df = compress('communication', communication)\n",
    "df = compress('language', language)"
   ]
  },
  {
   "cell_type": "markdown",
   "metadata": {},
   "source": [
    "Выводим таблицу с полученными навыками"
   ]
  },
  {
   "cell_type": "code",
   "execution_count": 84,
   "metadata": {},
   "outputs": [
    {
     "data": {
      "text/html": [
       "<div>\n",
       "<style scoped>\n",
       "    .dataframe tbody tr th:only-of-type {\n",
       "        vertical-align: middle;\n",
       "    }\n",
       "\n",
       "    .dataframe tbody tr th {\n",
       "        vertical-align: top;\n",
       "    }\n",
       "\n",
       "    .dataframe thead th {\n",
       "        text-align: right;\n",
       "    }\n",
       "</style>\n",
       "<table border=\"1\" class=\"dataframe\">\n",
       "  <thead>\n",
       "    <tr style=\"text-align: right;\">\n",
       "      <th></th>\n",
       "      <th>creativity_num</th>\n",
       "      <th>hard_work_num</th>\n",
       "      <th>accuracy_num</th>\n",
       "      <th>leader_num</th>\n",
       "      <th>computer_num</th>\n",
       "      <th>mind_tech_num</th>\n",
       "      <th>communication_num</th>\n",
       "      <th>language_num</th>\n",
       "    </tr>\n",
       "  </thead>\n",
       "  <tbody>\n",
       "    <tr>\n",
       "      <th>0</th>\n",
       "      <td>1</td>\n",
       "      <td>1</td>\n",
       "      <td>0</td>\n",
       "      <td>1</td>\n",
       "      <td>1</td>\n",
       "      <td>0</td>\n",
       "      <td>0</td>\n",
       "      <td>0</td>\n",
       "    </tr>\n",
       "    <tr>\n",
       "      <th>1</th>\n",
       "      <td>1</td>\n",
       "      <td>1</td>\n",
       "      <td>1</td>\n",
       "      <td>1</td>\n",
       "      <td>1</td>\n",
       "      <td>1</td>\n",
       "      <td>1</td>\n",
       "      <td>1</td>\n",
       "    </tr>\n",
       "    <tr>\n",
       "      <th>2</th>\n",
       "      <td>0</td>\n",
       "      <td>0</td>\n",
       "      <td>0</td>\n",
       "      <td>0</td>\n",
       "      <td>1</td>\n",
       "      <td>0</td>\n",
       "      <td>0</td>\n",
       "      <td>0</td>\n",
       "    </tr>\n",
       "    <tr>\n",
       "      <th>3</th>\n",
       "      <td>1</td>\n",
       "      <td>1</td>\n",
       "      <td>0</td>\n",
       "      <td>1</td>\n",
       "      <td>0</td>\n",
       "      <td>0</td>\n",
       "      <td>1</td>\n",
       "      <td>1</td>\n",
       "    </tr>\n",
       "    <tr>\n",
       "      <th>4</th>\n",
       "      <td>1</td>\n",
       "      <td>0</td>\n",
       "      <td>0</td>\n",
       "      <td>0</td>\n",
       "      <td>0</td>\n",
       "      <td>0</td>\n",
       "      <td>1</td>\n",
       "      <td>1</td>\n",
       "    </tr>\n",
       "    <tr>\n",
       "      <th>...</th>\n",
       "      <td>...</td>\n",
       "      <td>...</td>\n",
       "      <td>...</td>\n",
       "      <td>...</td>\n",
       "      <td>...</td>\n",
       "      <td>...</td>\n",
       "      <td>...</td>\n",
       "      <td>...</td>\n",
       "    </tr>\n",
       "    <tr>\n",
       "      <th>75</th>\n",
       "      <td>0</td>\n",
       "      <td>1</td>\n",
       "      <td>1</td>\n",
       "      <td>1</td>\n",
       "      <td>1</td>\n",
       "      <td>1</td>\n",
       "      <td>1</td>\n",
       "      <td>0</td>\n",
       "    </tr>\n",
       "    <tr>\n",
       "      <th>76</th>\n",
       "      <td>0</td>\n",
       "      <td>0</td>\n",
       "      <td>0</td>\n",
       "      <td>0</td>\n",
       "      <td>0</td>\n",
       "      <td>0</td>\n",
       "      <td>0</td>\n",
       "      <td>0</td>\n",
       "    </tr>\n",
       "    <tr>\n",
       "      <th>77</th>\n",
       "      <td>1</td>\n",
       "      <td>1</td>\n",
       "      <td>1</td>\n",
       "      <td>1</td>\n",
       "      <td>0</td>\n",
       "      <td>1</td>\n",
       "      <td>0</td>\n",
       "      <td>1</td>\n",
       "    </tr>\n",
       "    <tr>\n",
       "      <th>78</th>\n",
       "      <td>0</td>\n",
       "      <td>1</td>\n",
       "      <td>0</td>\n",
       "      <td>1</td>\n",
       "      <td>1</td>\n",
       "      <td>0</td>\n",
       "      <td>1</td>\n",
       "      <td>1</td>\n",
       "    </tr>\n",
       "    <tr>\n",
       "      <th>79</th>\n",
       "      <td>1</td>\n",
       "      <td>1</td>\n",
       "      <td>0</td>\n",
       "      <td>1</td>\n",
       "      <td>0</td>\n",
       "      <td>0</td>\n",
       "      <td>1</td>\n",
       "      <td>0</td>\n",
       "    </tr>\n",
       "  </tbody>\n",
       "</table>\n",
       "<p>80 rows × 8 columns</p>\n",
       "</div>"
      ],
      "text/plain": [
       "    creativity_num  hard_work_num  accuracy_num  leader_num  computer_num  \\\n",
       "0                1              1             0           1             1   \n",
       "1                1              1             1           1             1   \n",
       "2                0              0             0           0             1   \n",
       "3                1              1             0           1             0   \n",
       "4                1              0             0           0             0   \n",
       "..             ...            ...           ...         ...           ...   \n",
       "75               0              1             1           1             1   \n",
       "76               0              0             0           0             0   \n",
       "77               1              1             1           1             0   \n",
       "78               0              1             0           1             1   \n",
       "79               1              1             0           1             0   \n",
       "\n",
       "    mind_tech_num  communication_num  language_num  \n",
       "0               0                  0             0  \n",
       "1               1                  1             1  \n",
       "2               0                  0             0  \n",
       "3               0                  1             1  \n",
       "4               0                  1             1  \n",
       "..            ...                ...           ...  \n",
       "75              1                  1             0  \n",
       "76              0                  0             0  \n",
       "77              1                  0             1  \n",
       "78              0                  1             1  \n",
       "79              0                  1             0  \n",
       "\n",
       "[80 rows x 8 columns]"
      ]
     },
     "execution_count": 84,
     "metadata": {},
     "output_type": "execute_result"
    }
   ],
   "source": [
    "df[finale_skills]"
   ]
  },
  {
   "cell_type": "markdown",
   "metadata": {},
   "source": [
    "Дальше ее можно сохранить и обучать на ней модель"
   ]
  }
 ],
 "metadata": {
  "kernelspec": {
   "display_name": "Python 3",
   "language": "python",
   "name": "python3"
  },
  "language_info": {
   "codemirror_mode": {
    "name": "ipython",
    "version": 3
   },
   "file_extension": ".py",
   "mimetype": "text/x-python",
   "name": "python",
   "nbconvert_exporter": "python",
   "pygments_lexer": "ipython3",
   "version": "3.7.6"
  }
 },
 "nbformat": 4,
 "nbformat_minor": 4
}
