{
  "nbformat": 4,
  "nbformat_minor": 0,
  "metadata": {
    "colab": {
      "name": "CatBoost_final.ipynb",
      "provenance": [],
      "collapsed_sections": []
    },
    "kernelspec": {
      "display_name": "Python 3",
      "language": "python",
      "name": "python3"
    },
    "language_info": {
      "codemirror_mode": {
        "name": "ipython",
        "version": 3
      },
      "file_extension": ".py",
      "mimetype": "text/x-python",
      "name": "python",
      "nbconvert_exporter": "python",
      "pygments_lexer": "ipython3",
      "version": "3.7.7"
    }
  },
  "cells": [
    {
      "cell_type": "code",
      "metadata": {
        "id": "s-acLXsdImee",
        "colab_type": "code",
        "colab": {
          "base_uri": "https://localhost:8080/",
          "height": 34
        },
        "outputId": "856c0ff2-64a0-4152-a161-d385438f9500"
      },
      "source": [
        "from google.colab import drive\n",
        "drive.mount('/content/drive')"
      ],
      "execution_count": 1,
      "outputs": [
        {
          "output_type": "stream",
          "text": [
            "Drive already mounted at /content/drive; to attempt to forcibly remount, call drive.mount(\"/content/drive\", force_remount=True).\n"
          ],
          "name": "stdout"
        }
      ]
    },
    {
      "cell_type": "code",
      "metadata": {
        "ExecuteTime": {
          "end_time": "2020-07-10T19:06:47.960833Z",
          "start_time": "2020-07-10T19:06:46.562846Z"
        },
        "colab_type": "code",
        "id": "M5mY4zckl1VJ",
        "colab": {}
      },
      "source": [
        "import pandas as pd"
      ],
      "execution_count": 2,
      "outputs": []
    },
    {
      "cell_type": "code",
      "metadata": {
        "ExecuteTime": {
          "end_time": "2020-07-10T19:06:53.957562Z",
          "start_time": "2020-07-10T19:06:47.965297Z"
        },
        "colab_type": "code",
        "id": "fkvKLuLPmAZO",
        "colab": {}
      },
      "source": [
        "df=pd.read_csv('/content/drive/My Drive/vacs_train.csv',sep=';',index_col=0)"
      ],
      "execution_count": 3,
      "outputs": []
    },
    {
      "cell_type": "markdown",
      "metadata": {
        "id": "kzE4Ex90GNRN",
        "colab_type": "text"
      },
      "source": [
        "###Data Preprocessing "
      ]
    },
    {
      "cell_type": "code",
      "metadata": {
        "ExecuteTime": {
          "end_time": "2020-07-10T19:06:54.023660Z",
          "start_time": "2020-07-10T19:06:53.962714Z"
        },
        "colab_type": "code",
        "id": "SV0U0kPYmEli",
        "colab": {}
      },
      "source": [
        "drops = ['id','name', 'area.name','city', 'company.id','company', 'company_link', \n",
        "         'publication_date', 'salary_currency', 'employment.name', 'schedule.name', \n",
        "         'experience.name', 'description', 'type']\n",
        "\n",
        "\n",
        "def to_int(stri):\n",
        "    return int(stri)\n",
        "\n",
        "\n",
        "def change_emplyment(cdf):\n",
        "    cdf['employment_num'] = (cdf['employment'] == 'full').apply(to_int)\n",
        "    return cdf.drop('employment', axis = 1)\n",
        "\n",
        "\n",
        "def change_schecule(cdf):\n",
        "    type_schedule = list(cdf.groupby('schedule').count().index)\n",
        "    for typ in type_schedule:\n",
        "        cdf[typ + '_schedule'] = (cdf['schedule'] == typ).apply(to_int)\n",
        "    cdf = cdf.drop('schedule', axis = 1)\n",
        "    return cdf\n",
        "\n",
        "\n",
        "def delete_dublicates(x):\n",
        "    return list(dict.fromkeys(x))\n",
        "\n",
        "\n",
        "def spec_to_int(string):\n",
        "    spec = string.split()\n",
        "    res = []\n",
        "    for num in spec:\n",
        "        res.append(int(float(num)))\n",
        "    return delete_dublicates(res)\n",
        "\n",
        "\n",
        "def add_spec(cdf):\n",
        "    cdf['spec'] = cdf['specializations'].apply(spec_to_int)\n",
        "    cdf['spec'] = cdf['spec'].apply(lambda x: x + [0]*6)\n",
        "    for i in range(6):\n",
        "        cdf['spec_' + str(i)] = cdf['spec'].apply(lambda x: x[i])\n",
        "    return cdf\n",
        "\n",
        "\n",
        "def nor_experience(s):\n",
        "    if s == 'between1And3':\n",
        "        return 2\n",
        "    if s == 'between3And6':\n",
        "        return 4\n",
        "    if s == 'moreThan6':\n",
        "        return 8\n",
        "    return 0\n",
        "\n",
        "\n",
        "def change_experience(cdf):\n",
        "    cdf['experience'] = cdf['experience'].apply(nor_experience)\n",
        "    return cdf\n",
        "\n",
        "\n",
        "def get_cur_df(df):\n",
        "    df1 = df.copy()\n",
        "    cdf = df1.drop(drops, axis=1)\n",
        "    cdf = change_emplyment(cdf)\n",
        "    cdf = change_schecule(cdf)\n",
        "    cdf = add_spec(cdf)\n",
        "    cdf = change_experience(cdf)\n",
        "    return cdf"
      ],
      "execution_count": 4,
      "outputs": []
    },
    {
      "cell_type": "code",
      "metadata": {
        "ExecuteTime": {
          "end_time": "2020-07-10T19:06:56.139141Z",
          "start_time": "2020-07-10T19:06:54.030988Z"
        },
        "colab_type": "code",
        "id": "1FIGaKdhw-5t",
        "scrolled": true,
        "colab": {
          "base_uri": "https://localhost:8080/",
          "height": 119
        },
        "outputId": "200a29ec-84c1-49c0-91b7-0538b74e014f"
      },
      "source": [
        "cdf = get_cur_df(df)\n",
        "cdf.columns"
      ],
      "execution_count": 5,
      "outputs": [
        {
          "output_type": "execute_result",
          "data": {
            "text/plain": [
              "Index(['name.lemm', 'salary_from', 'experience', 'key_skills',\n",
              "       'specializations', 'specializations.names', 'description.lemm',\n",
              "       'employment_num', 'flexible_schedule', 'flyInFlyOut_schedule',\n",
              "       'fullDay_schedule', 'remote_schedule', 'shift_schedule', 'spec',\n",
              "       'spec_0', 'spec_1', 'spec_2', 'spec_3', 'spec_4', 'spec_5'],\n",
              "      dtype='object')"
            ]
          },
          "metadata": {
            "tags": []
          },
          "execution_count": 5
        }
      ]
    },
    {
      "cell_type": "code",
      "metadata": {
        "ExecuteTime": {
          "end_time": "2020-07-10T19:06:56.253667Z",
          "start_time": "2020-07-10T19:06:56.142019Z"
        },
        "id": "KtPM0AXBIeNY",
        "colab_type": "code",
        "colab": {}
      },
      "source": [
        "cdf=cdf.drop(['spec', 'key_skills', 'name.lemm', 'specializations','specializations.names','description.lemm'],axis=1)"
      ],
      "execution_count": 6,
      "outputs": []
    },
    {
      "cell_type": "code",
      "metadata": {
        "ExecuteTime": {
          "end_time": "2020-07-10T19:06:56.287005Z",
          "start_time": "2020-07-10T19:06:56.256193Z"
        },
        "id": "llpSP6l_IeNc",
        "colab_type": "code",
        "colab": {
          "base_uri": "https://localhost:8080/",
          "height": 255
        },
        "outputId": "359c1902-b4da-41a3-9446-db33d1bcd1fd"
      },
      "source": [
        "cdf.head()"
      ],
      "execution_count": 7,
      "outputs": [
        {
          "output_type": "execute_result",
          "data": {
            "text/html": [
              "<div>\n",
              "<style scoped>\n",
              "    .dataframe tbody tr th:only-of-type {\n",
              "        vertical-align: middle;\n",
              "    }\n",
              "\n",
              "    .dataframe tbody tr th {\n",
              "        vertical-align: top;\n",
              "    }\n",
              "\n",
              "    .dataframe thead th {\n",
              "        text-align: right;\n",
              "    }\n",
              "</style>\n",
              "<table border=\"1\" class=\"dataframe\">\n",
              "  <thead>\n",
              "    <tr style=\"text-align: right;\">\n",
              "      <th></th>\n",
              "      <th>salary_from</th>\n",
              "      <th>experience</th>\n",
              "      <th>employment_num</th>\n",
              "      <th>flexible_schedule</th>\n",
              "      <th>flyInFlyOut_schedule</th>\n",
              "      <th>fullDay_schedule</th>\n",
              "      <th>remote_schedule</th>\n",
              "      <th>shift_schedule</th>\n",
              "      <th>spec_0</th>\n",
              "      <th>spec_1</th>\n",
              "      <th>spec_2</th>\n",
              "      <th>spec_3</th>\n",
              "      <th>spec_4</th>\n",
              "      <th>spec_5</th>\n",
              "    </tr>\n",
              "    <tr>\n",
              "      <th>index</th>\n",
              "      <th></th>\n",
              "      <th></th>\n",
              "      <th></th>\n",
              "      <th></th>\n",
              "      <th></th>\n",
              "      <th></th>\n",
              "      <th></th>\n",
              "      <th></th>\n",
              "      <th></th>\n",
              "      <th></th>\n",
              "      <th></th>\n",
              "      <th></th>\n",
              "      <th></th>\n",
              "      <th></th>\n",
              "    </tr>\n",
              "  </thead>\n",
              "  <tbody>\n",
              "    <tr>\n",
              "      <th>0</th>\n",
              "      <td>40000.0</td>\n",
              "      <td>2</td>\n",
              "      <td>1</td>\n",
              "      <td>0</td>\n",
              "      <td>0</td>\n",
              "      <td>1</td>\n",
              "      <td>0</td>\n",
              "      <td>0</td>\n",
              "      <td>17</td>\n",
              "      <td>22</td>\n",
              "      <td>0</td>\n",
              "      <td>0</td>\n",
              "      <td>0</td>\n",
              "      <td>0</td>\n",
              "    </tr>\n",
              "    <tr>\n",
              "      <th>1</th>\n",
              "      <td>40000.0</td>\n",
              "      <td>2</td>\n",
              "      <td>1</td>\n",
              "      <td>0</td>\n",
              "      <td>0</td>\n",
              "      <td>1</td>\n",
              "      <td>0</td>\n",
              "      <td>0</td>\n",
              "      <td>4</td>\n",
              "      <td>6</td>\n",
              "      <td>2</td>\n",
              "      <td>0</td>\n",
              "      <td>0</td>\n",
              "      <td>0</td>\n",
              "    </tr>\n",
              "    <tr>\n",
              "      <th>3</th>\n",
              "      <td>30000.0</td>\n",
              "      <td>2</td>\n",
              "      <td>1</td>\n",
              "      <td>0</td>\n",
              "      <td>0</td>\n",
              "      <td>1</td>\n",
              "      <td>0</td>\n",
              "      <td>0</td>\n",
              "      <td>1</td>\n",
              "      <td>0</td>\n",
              "      <td>0</td>\n",
              "      <td>0</td>\n",
              "      <td>0</td>\n",
              "      <td>0</td>\n",
              "    </tr>\n",
              "    <tr>\n",
              "      <th>4</th>\n",
              "      <td>30000.0</td>\n",
              "      <td>2</td>\n",
              "      <td>1</td>\n",
              "      <td>0</td>\n",
              "      <td>0</td>\n",
              "      <td>0</td>\n",
              "      <td>0</td>\n",
              "      <td>1</td>\n",
              "      <td>22</td>\n",
              "      <td>21</td>\n",
              "      <td>17</td>\n",
              "      <td>0</td>\n",
              "      <td>0</td>\n",
              "      <td>0</td>\n",
              "    </tr>\n",
              "    <tr>\n",
              "      <th>5</th>\n",
              "      <td>25000.0</td>\n",
              "      <td>4</td>\n",
              "      <td>1</td>\n",
              "      <td>0</td>\n",
              "      <td>0</td>\n",
              "      <td>1</td>\n",
              "      <td>0</td>\n",
              "      <td>0</td>\n",
              "      <td>2</td>\n",
              "      <td>5</td>\n",
              "      <td>0</td>\n",
              "      <td>0</td>\n",
              "      <td>0</td>\n",
              "      <td>0</td>\n",
              "    </tr>\n",
              "  </tbody>\n",
              "</table>\n",
              "</div>"
            ],
            "text/plain": [
              "       salary_from  experience  employment_num  ...  spec_3  spec_4  spec_5\n",
              "index                                           ...                        \n",
              "0          40000.0           2               1  ...       0       0       0\n",
              "1          40000.0           2               1  ...       0       0       0\n",
              "3          30000.0           2               1  ...       0       0       0\n",
              "4          30000.0           2               1  ...       0       0       0\n",
              "5          25000.0           4               1  ...       0       0       0\n",
              "\n",
              "[5 rows x 14 columns]"
            ]
          },
          "metadata": {
            "tags": []
          },
          "execution_count": 7
        }
      ]
    },
    {
      "cell_type": "markdown",
      "metadata": {
        "id": "pVDvU6yKGXB0",
        "colab_type": "text"
      },
      "source": [
        "###Model Setup"
      ]
    },
    {
      "cell_type": "code",
      "metadata": {
        "ExecuteTime": {
          "end_time": "2020-07-10T19:06:56.298555Z",
          "start_time": "2020-07-10T19:06:56.289814Z"
        },
        "id": "aEEUarHMIeNh",
        "colab_type": "code",
        "colab": {}
      },
      "source": [
        "a=cdf.columns.get_loc('experience')\n",
        "b=cdf.columns.get_loc('spec_5')"
      ],
      "execution_count": 8,
      "outputs": []
    },
    {
      "cell_type": "code",
      "metadata": {
        "ExecuteTime": {
          "end_time": "2020-07-10T19:06:56.326672Z",
          "start_time": "2020-07-10T19:06:56.317314Z"
        },
        "scrolled": true,
        "id": "7OlSdadlIeNs",
        "colab_type": "code",
        "colab": {
          "base_uri": "https://localhost:8080/",
          "height": 34
        },
        "outputId": "3ac7526b-b279-42dc-ef58-1a85c9dad66c"
      },
      "source": [
        "categorical_columns_index=[]\n",
        "for i in range (a,b): categorical_columns_index.append(i)\n",
        "categorical_columns_index"
      ],
      "execution_count": 9,
      "outputs": [
        {
          "output_type": "execute_result",
          "data": {
            "text/plain": [
              "[1, 2, 3, 4, 5, 6, 7, 8, 9, 10, 11, 12]"
            ]
          },
          "metadata": {
            "tags": []
          },
          "execution_count": 9
        }
      ]
    },
    {
      "cell_type": "code",
      "metadata": {
        "ExecuteTime": {
          "end_time": "2020-07-10T19:06:56.405082Z",
          "start_time": "2020-07-10T19:06:56.336094Z"
        },
        "scrolled": true,
        "id": "kChFsG2gIeNz",
        "colab_type": "code",
        "colab": {
          "base_uri": "https://localhost:8080/",
          "height": 470
        },
        "outputId": "848956a4-b5a5-4d91-c132-b913aca4e248"
      },
      "source": [
        "cdf1=cdf.drop(['salary_from'],axis=1)\n",
        "cdf1"
      ],
      "execution_count": 10,
      "outputs": [
        {
          "output_type": "execute_result",
          "data": {
            "text/html": [
              "<div>\n",
              "<style scoped>\n",
              "    .dataframe tbody tr th:only-of-type {\n",
              "        vertical-align: middle;\n",
              "    }\n",
              "\n",
              "    .dataframe tbody tr th {\n",
              "        vertical-align: top;\n",
              "    }\n",
              "\n",
              "    .dataframe thead th {\n",
              "        text-align: right;\n",
              "    }\n",
              "</style>\n",
              "<table border=\"1\" class=\"dataframe\">\n",
              "  <thead>\n",
              "    <tr style=\"text-align: right;\">\n",
              "      <th></th>\n",
              "      <th>experience</th>\n",
              "      <th>employment_num</th>\n",
              "      <th>flexible_schedule</th>\n",
              "      <th>flyInFlyOut_schedule</th>\n",
              "      <th>fullDay_schedule</th>\n",
              "      <th>remote_schedule</th>\n",
              "      <th>shift_schedule</th>\n",
              "      <th>spec_0</th>\n",
              "      <th>spec_1</th>\n",
              "      <th>spec_2</th>\n",
              "      <th>spec_3</th>\n",
              "      <th>spec_4</th>\n",
              "      <th>spec_5</th>\n",
              "    </tr>\n",
              "    <tr>\n",
              "      <th>index</th>\n",
              "      <th></th>\n",
              "      <th></th>\n",
              "      <th></th>\n",
              "      <th></th>\n",
              "      <th></th>\n",
              "      <th></th>\n",
              "      <th></th>\n",
              "      <th></th>\n",
              "      <th></th>\n",
              "      <th></th>\n",
              "      <th></th>\n",
              "      <th></th>\n",
              "      <th></th>\n",
              "    </tr>\n",
              "  </thead>\n",
              "  <tbody>\n",
              "    <tr>\n",
              "      <th>0</th>\n",
              "      <td>2</td>\n",
              "      <td>1</td>\n",
              "      <td>0</td>\n",
              "      <td>0</td>\n",
              "      <td>1</td>\n",
              "      <td>0</td>\n",
              "      <td>0</td>\n",
              "      <td>17</td>\n",
              "      <td>22</td>\n",
              "      <td>0</td>\n",
              "      <td>0</td>\n",
              "      <td>0</td>\n",
              "      <td>0</td>\n",
              "    </tr>\n",
              "    <tr>\n",
              "      <th>1</th>\n",
              "      <td>2</td>\n",
              "      <td>1</td>\n",
              "      <td>0</td>\n",
              "      <td>0</td>\n",
              "      <td>1</td>\n",
              "      <td>0</td>\n",
              "      <td>0</td>\n",
              "      <td>4</td>\n",
              "      <td>6</td>\n",
              "      <td>2</td>\n",
              "      <td>0</td>\n",
              "      <td>0</td>\n",
              "      <td>0</td>\n",
              "    </tr>\n",
              "    <tr>\n",
              "      <th>3</th>\n",
              "      <td>2</td>\n",
              "      <td>1</td>\n",
              "      <td>0</td>\n",
              "      <td>0</td>\n",
              "      <td>1</td>\n",
              "      <td>0</td>\n",
              "      <td>0</td>\n",
              "      <td>1</td>\n",
              "      <td>0</td>\n",
              "      <td>0</td>\n",
              "      <td>0</td>\n",
              "      <td>0</td>\n",
              "      <td>0</td>\n",
              "    </tr>\n",
              "    <tr>\n",
              "      <th>4</th>\n",
              "      <td>2</td>\n",
              "      <td>1</td>\n",
              "      <td>0</td>\n",
              "      <td>0</td>\n",
              "      <td>0</td>\n",
              "      <td>0</td>\n",
              "      <td>1</td>\n",
              "      <td>22</td>\n",
              "      <td>21</td>\n",
              "      <td>17</td>\n",
              "      <td>0</td>\n",
              "      <td>0</td>\n",
              "      <td>0</td>\n",
              "    </tr>\n",
              "    <tr>\n",
              "      <th>5</th>\n",
              "      <td>4</td>\n",
              "      <td>1</td>\n",
              "      <td>0</td>\n",
              "      <td>0</td>\n",
              "      <td>1</td>\n",
              "      <td>0</td>\n",
              "      <td>0</td>\n",
              "      <td>2</td>\n",
              "      <td>5</td>\n",
              "      <td>0</td>\n",
              "      <td>0</td>\n",
              "      <td>0</td>\n",
              "      <td>0</td>\n",
              "    </tr>\n",
              "    <tr>\n",
              "      <th>...</th>\n",
              "      <td>...</td>\n",
              "      <td>...</td>\n",
              "      <td>...</td>\n",
              "      <td>...</td>\n",
              "      <td>...</td>\n",
              "      <td>...</td>\n",
              "      <td>...</td>\n",
              "      <td>...</td>\n",
              "      <td>...</td>\n",
              "      <td>...</td>\n",
              "      <td>...</td>\n",
              "      <td>...</td>\n",
              "      <td>...</td>\n",
              "    </tr>\n",
              "    <tr>\n",
              "      <th>150858</th>\n",
              "      <td>2</td>\n",
              "      <td>1</td>\n",
              "      <td>0</td>\n",
              "      <td>0</td>\n",
              "      <td>1</td>\n",
              "      <td>0</td>\n",
              "      <td>0</td>\n",
              "      <td>17</td>\n",
              "      <td>0</td>\n",
              "      <td>0</td>\n",
              "      <td>0</td>\n",
              "      <td>0</td>\n",
              "      <td>0</td>\n",
              "    </tr>\n",
              "    <tr>\n",
              "      <th>150860</th>\n",
              "      <td>4</td>\n",
              "      <td>1</td>\n",
              "      <td>0</td>\n",
              "      <td>0</td>\n",
              "      <td>1</td>\n",
              "      <td>0</td>\n",
              "      <td>0</td>\n",
              "      <td>4</td>\n",
              "      <td>0</td>\n",
              "      <td>0</td>\n",
              "      <td>0</td>\n",
              "      <td>0</td>\n",
              "      <td>0</td>\n",
              "    </tr>\n",
              "    <tr>\n",
              "      <th>150861</th>\n",
              "      <td>2</td>\n",
              "      <td>1</td>\n",
              "      <td>0</td>\n",
              "      <td>0</td>\n",
              "      <td>1</td>\n",
              "      <td>0</td>\n",
              "      <td>0</td>\n",
              "      <td>2</td>\n",
              "      <td>0</td>\n",
              "      <td>0</td>\n",
              "      <td>0</td>\n",
              "      <td>0</td>\n",
              "      <td>0</td>\n",
              "    </tr>\n",
              "    <tr>\n",
              "      <th>150862</th>\n",
              "      <td>2</td>\n",
              "      <td>1</td>\n",
              "      <td>0</td>\n",
              "      <td>0</td>\n",
              "      <td>1</td>\n",
              "      <td>0</td>\n",
              "      <td>0</td>\n",
              "      <td>20</td>\n",
              "      <td>0</td>\n",
              "      <td>0</td>\n",
              "      <td>0</td>\n",
              "      <td>0</td>\n",
              "      <td>0</td>\n",
              "    </tr>\n",
              "    <tr>\n",
              "      <th>150866</th>\n",
              "      <td>0</td>\n",
              "      <td>0</td>\n",
              "      <td>1</td>\n",
              "      <td>0</td>\n",
              "      <td>0</td>\n",
              "      <td>0</td>\n",
              "      <td>0</td>\n",
              "      <td>2</td>\n",
              "      <td>15</td>\n",
              "      <td>0</td>\n",
              "      <td>0</td>\n",
              "      <td>0</td>\n",
              "      <td>0</td>\n",
              "    </tr>\n",
              "  </tbody>\n",
              "</table>\n",
              "<p>100001 rows × 13 columns</p>\n",
              "</div>"
            ],
            "text/plain": [
              "        experience  employment_num  flexible_schedule  ...  spec_3  spec_4  spec_5\n",
              "index                                                  ...                        \n",
              "0                2               1                  0  ...       0       0       0\n",
              "1                2               1                  0  ...       0       0       0\n",
              "3                2               1                  0  ...       0       0       0\n",
              "4                2               1                  0  ...       0       0       0\n",
              "5                4               1                  0  ...       0       0       0\n",
              "...            ...             ...                ...  ...     ...     ...     ...\n",
              "150858           2               1                  0  ...       0       0       0\n",
              "150860           4               1                  0  ...       0       0       0\n",
              "150861           2               1                  0  ...       0       0       0\n",
              "150862           2               1                  0  ...       0       0       0\n",
              "150866           0               0                  1  ...       0       0       0\n",
              "\n",
              "[100001 rows x 13 columns]"
            ]
          },
          "metadata": {
            "tags": []
          },
          "execution_count": 10
        }
      ]
    },
    {
      "cell_type": "code",
      "metadata": {
        "id": "NaWHqzvyJELz",
        "colab_type": "code",
        "colab": {
          "base_uri": "https://localhost:8080/",
          "height": 255
        },
        "outputId": "2ef60e19-606c-436a-b826-1b4c036a456d"
      },
      "source": [
        "!pip install catboost"
      ],
      "execution_count": 11,
      "outputs": [
        {
          "output_type": "stream",
          "text": [
            "Requirement already satisfied: catboost in /usr/local/lib/python3.6/dist-packages (0.23.2)\n",
            "Requirement already satisfied: plotly in /usr/local/lib/python3.6/dist-packages (from catboost) (4.4.1)\n",
            "Requirement already satisfied: numpy>=1.16.0 in /usr/local/lib/python3.6/dist-packages (from catboost) (1.18.5)\n",
            "Requirement already satisfied: scipy in /usr/local/lib/python3.6/dist-packages (from catboost) (1.4.1)\n",
            "Requirement already satisfied: matplotlib in /usr/local/lib/python3.6/dist-packages (from catboost) (3.2.2)\n",
            "Requirement already satisfied: six in /usr/local/lib/python3.6/dist-packages (from catboost) (1.12.0)\n",
            "Requirement already satisfied: pandas>=0.24.0 in /usr/local/lib/python3.6/dist-packages (from catboost) (1.0.5)\n",
            "Requirement already satisfied: graphviz in /usr/local/lib/python3.6/dist-packages (from catboost) (0.10.1)\n",
            "Requirement already satisfied: retrying>=1.3.3 in /usr/local/lib/python3.6/dist-packages (from plotly->catboost) (1.3.3)\n",
            "Requirement already satisfied: pyparsing!=2.0.4,!=2.1.2,!=2.1.6,>=2.0.1 in /usr/local/lib/python3.6/dist-packages (from matplotlib->catboost) (2.4.7)\n",
            "Requirement already satisfied: kiwisolver>=1.0.1 in /usr/local/lib/python3.6/dist-packages (from matplotlib->catboost) (1.2.0)\n",
            "Requirement already satisfied: cycler>=0.10 in /usr/local/lib/python3.6/dist-packages (from matplotlib->catboost) (0.10.0)\n",
            "Requirement already satisfied: python-dateutil>=2.1 in /usr/local/lib/python3.6/dist-packages (from matplotlib->catboost) (2.8.1)\n",
            "Requirement already satisfied: pytz>=2017.2 in /usr/local/lib/python3.6/dist-packages (from pandas>=0.24.0->catboost) (2018.9)\n"
          ],
          "name": "stdout"
        }
      ]
    },
    {
      "cell_type": "code",
      "metadata": {
        "ExecuteTime": {
          "end_time": "2020-07-10T19:06:58.018806Z",
          "start_time": "2020-07-10T19:06:56.417214Z"
        },
        "id": "x5ui2OzrIeN3",
        "colab_type": "code",
        "colab": {}
      },
      "source": [
        "from catboost import CatBoostRegressor, Pool\n",
        "from sklearn.model_selection import train_test_split"
      ],
      "execution_count": 12,
      "outputs": []
    },
    {
      "cell_type": "code",
      "metadata": {
        "ExecuteTime": {
          "end_time": "2020-07-10T19:06:58.077344Z",
          "start_time": "2020-07-10T19:06:58.022999Z"
        },
        "id": "DCezJgmxIeN5",
        "colab_type": "code",
        "colab": {}
      },
      "source": [
        "X_train, X_test, y_train, y_test =  train_test_split(cdf1,cdf['salary_from'],test_size=0.1, shuffle=True, random_state = 42)"
      ],
      "execution_count": 13,
      "outputs": []
    },
    {
      "cell_type": "code",
      "metadata": {
        "ExecuteTime": {
          "end_time": "2020-07-10T19:07:00.303673Z",
          "start_time": "2020-07-10T19:06:58.080268Z"
        },
        "id": "xCaAsidzIeN-",
        "colab_type": "code",
        "colab": {}
      },
      "source": [
        "train_pool =  Pool(X_train, y_train, cat_features=categorical_columns_index)\n",
        "full_train_pool =  Pool(cdf1, cdf['salary_from'], cat_features=categorical_columns_index)"
      ],
      "execution_count": 14,
      "outputs": []
    },
    {
      "cell_type": "code",
      "metadata": {
        "id": "mn_G1w8Glua5",
        "colab_type": "code",
        "colab": {}
      },
      "source": [
        "model= CatBoostRegressor(iterations=1000, learning_rate=0.05, bootstrap_type='MVS', depth=16, leaf_estimation_method='Newton', score_function='NewtonL2',\n",
        "                         od_type='IncToDec', one_hot_max_size=4, l2_leaf_reg=3, random_seed=1)"
      ],
      "execution_count": 15,
      "outputs": []
    },
    {
      "cell_type": "code",
      "metadata": {
        "id": "c08xoGzqMdUC",
        "colab_type": "code",
        "colab": {
          "base_uri": "https://localhost:8080/",
          "height": 306
        },
        "outputId": "cc554d14-2bfe-44af-ef10-dccf5519804f"
      },
      "source": [
        "model.fit(full_train_pool, eval_set=(X_test,y_test), verbose=100)\n",
        "model.score(X_test,y_test)"
      ],
      "execution_count": 86,
      "outputs": [
        {
          "output_type": "stream",
          "text": [
            "0:\tlearn: 21401.5773737\ttest: 21464.5682504\tbest: 21464.5682504 (0)\ttotal: 1.47s\tremaining: 24m 27s\n",
            "100:\tlearn: 16198.3283763\ttest: 16224.4991762\tbest: 16224.3724190 (99)\ttotal: 3m 26s\tremaining: 30m 35s\n",
            "200:\tlearn: 15891.5661998\ttest: 16133.2731655\tbest: 16133.2731655 (200)\ttotal: 7m 43s\tremaining: 30m 42s\n",
            "300:\tlearn: 15700.0118486\ttest: 16103.1749709\tbest: 16103.1749709 (300)\ttotal: 12m 8s\tremaining: 28m 11s\n",
            "400:\tlearn: 15560.4432387\ttest: 16089.0642951\tbest: 16089.0642951 (400)\ttotal: 16m 33s\tremaining: 24m 44s\n",
            "500:\tlearn: 15440.0232220\ttest: 16080.4726002\tbest: 16080.4431742 (499)\ttotal: 20m 57s\tremaining: 20m 52s\n",
            "600:\tlearn: 15347.9675966\ttest: 16085.6252285\tbest: 16078.2295327 (549)\ttotal: 25m 15s\tremaining: 16m 46s\n",
            "700:\tlearn: 15258.9446343\ttest: 16084.5174320\tbest: 16078.2295327 (549)\ttotal: 29m 33s\tremaining: 12m 36s\n",
            "800:\tlearn: 15183.5176946\ttest: 16093.8428366\tbest: 16078.2295327 (549)\ttotal: 33m 47s\tremaining: 8m 23s\n",
            "900:\tlearn: 15114.0761007\ttest: 16099.3661672\tbest: 16078.2295327 (549)\ttotal: 37m 52s\tremaining: 4m 9s\n",
            "999:\tlearn: 15051.0964362\ttest: 16110.1355425\tbest: 16078.2295327 (549)\ttotal: 41m 53s\tremaining: 0us\n",
            "\n",
            "bestTest = 16078.22953\n",
            "bestIteration = 549\n",
            "\n",
            "Shrink model to first 550 iterations.\n"
          ],
          "name": "stdout"
        },
        {
          "output_type": "execute_result",
          "data": {
            "text/plain": [
              "0.459280892711628"
            ]
          },
          "metadata": {
            "tags": []
          },
          "execution_count": 86
        }
      ]
    },
    {
      "cell_type": "code",
      "metadata": {
        "id": "Ve2ZTvxkkEqu",
        "colab_type": "code",
        "colab": {}
      },
      "source": [
        "model.save_model('/content/drive/My Drive/cat_model',format=\"cbm\", pool=full_train_pool)"
      ],
      "execution_count": 87,
      "outputs": []
    },
    {
      "cell_type": "code",
      "metadata": {
        "id": "GximNvxekj6U",
        "colab_type": "code",
        "colab": {
          "base_uri": "https://localhost:8080/",
          "height": 34
        },
        "outputId": "dd0af51a-9599-4b69-d137-91ff6144624e"
      },
      "source": [
        "model.load_model('/content/drive/My Drive/cat_model', format='cbm')"
      ],
      "execution_count": 16,
      "outputs": [
        {
          "output_type": "execute_result",
          "data": {
            "text/plain": [
              "<catboost.core.CatBoostRegressor at 0x7f92fb265278>"
            ]
          },
          "metadata": {
            "tags": []
          },
          "execution_count": 16
        }
      ]
    },
    {
      "cell_type": "markdown",
      "metadata": {
        "id": "uifI-WaWGd5W",
        "colab_type": "text"
      },
      "source": [
        "###Model Evaluation "
      ]
    },
    {
      "cell_type": "code",
      "metadata": {
        "id": "G9xdmED1norE",
        "colab_type": "code",
        "colab": {
          "base_uri": "https://localhost:8080/",
          "height": 51
        },
        "outputId": "e74202d0-dc1e-4b61-eca5-12d2a04b1582"
      },
      "source": [
        "prediction=model.predict(X_test)\n",
        "prediction"
      ],
      "execution_count": 17,
      "outputs": [
        {
          "output_type": "execute_result",
          "data": {
            "text/plain": [
              "array([35127.88605371, 26614.7341528 , 32285.97168011, ...,\n",
              "       45061.26288003, 32137.89179896, 38070.75977021])"
            ]
          },
          "metadata": {
            "tags": []
          },
          "execution_count": 17
        }
      ]
    },
    {
      "cell_type": "code",
      "metadata": {
        "id": "hOMIyUP8G3j3",
        "colab_type": "code",
        "colab": {}
      },
      "source": [
        "#округлить до 1к\n",
        "\n",
        "for i in range(len(prediction)):\n",
        "  num = prediction[i]\n",
        "  num = round(num)\n",
        "  st = str(num)[-5:-2]\n",
        "  if int(st)>=500:\n",
        "    prediction[i] = float((int(str(num)[:-5])+1)*1000)\n",
        "  else: \n",
        "    prediction[i] = float((int(str(num)[:-5]))*1000)\n"
      ],
      "execution_count": 18,
      "outputs": []
    },
    {
      "cell_type": "code",
      "metadata": {
        "id": "vPbgtVwl4ViW",
        "colab_type": "code",
        "colab": {
          "base_uri": "https://localhost:8080/",
          "height": 34
        },
        "outputId": "b2ee6e59-93d5-467b-b57c-19ac744d93e1"
      },
      "source": [
        "prediction"
      ],
      "execution_count": 19,
      "outputs": [
        {
          "output_type": "execute_result",
          "data": {
            "text/plain": [
              "array([35000., 27000., 32000., ..., 45000., 32000., 38000.])"
            ]
          },
          "metadata": {
            "tags": []
          },
          "execution_count": 19
        }
      ]
    },
    {
      "cell_type": "code",
      "metadata": {
        "id": "eas9rhFYuEBy",
        "colab_type": "code",
        "colab": {}
      },
      "source": [
        "pred = pd.DataFrame({\"Original\":y_test,\"Predicted\":prediction}, index=None)"
      ],
      "execution_count": 20,
      "outputs": []
    },
    {
      "cell_type": "code",
      "metadata": {
        "id": "4at9a7Yp_Znt",
        "colab_type": "code",
        "colab": {
          "base_uri": "https://localhost:8080/",
          "height": 235
        },
        "outputId": "f26ee3e0-20db-4085-da25-d86936e6c9fa"
      },
      "source": [
        "import sklearn.utils\n",
        "pred = sklearn.utils.shuffle(pred)\n",
        "pred.head()"
      ],
      "execution_count": 26,
      "outputs": [
        {
          "output_type": "execute_result",
          "data": {
            "text/html": [
              "<div>\n",
              "<style scoped>\n",
              "    .dataframe tbody tr th:only-of-type {\n",
              "        vertical-align: middle;\n",
              "    }\n",
              "\n",
              "    .dataframe tbody tr th {\n",
              "        vertical-align: top;\n",
              "    }\n",
              "\n",
              "    .dataframe thead th {\n",
              "        text-align: right;\n",
              "    }\n",
              "</style>\n",
              "<table border=\"1\" class=\"dataframe\">\n",
              "  <thead>\n",
              "    <tr style=\"text-align: right;\">\n",
              "      <th></th>\n",
              "      <th>Original</th>\n",
              "      <th>Predicted</th>\n",
              "    </tr>\n",
              "    <tr>\n",
              "      <th>index</th>\n",
              "      <th></th>\n",
              "      <th></th>\n",
              "    </tr>\n",
              "  </thead>\n",
              "  <tbody>\n",
              "    <tr>\n",
              "      <th>83091</th>\n",
              "      <td>45000.0</td>\n",
              "      <td>45000.0</td>\n",
              "    </tr>\n",
              "    <tr>\n",
              "      <th>30447</th>\n",
              "      <td>35000.0</td>\n",
              "      <td>36000.0</td>\n",
              "    </tr>\n",
              "    <tr>\n",
              "      <th>57575</th>\n",
              "      <td>27000.0</td>\n",
              "      <td>25000.0</td>\n",
              "    </tr>\n",
              "    <tr>\n",
              "      <th>63928</th>\n",
              "      <td>50000.0</td>\n",
              "      <td>51000.0</td>\n",
              "    </tr>\n",
              "    <tr>\n",
              "      <th>109981</th>\n",
              "      <td>60000.0</td>\n",
              "      <td>55000.0</td>\n",
              "    </tr>\n",
              "  </tbody>\n",
              "</table>\n",
              "</div>"
            ],
            "text/plain": [
              "        Original  Predicted\n",
              "index                      \n",
              "83091    45000.0    45000.0\n",
              "30447    35000.0    36000.0\n",
              "57575    27000.0    25000.0\n",
              "63928    50000.0    51000.0\n",
              "109981   60000.0    55000.0"
            ]
          },
          "metadata": {
            "tags": []
          },
          "execution_count": 26
        }
      ]
    },
    {
      "cell_type": "markdown",
      "metadata": {
        "id": "W1jUEPxeF2NR",
        "colab_type": "text"
      },
      "source": [
        "###Provided Test Data"
      ]
    },
    {
      "cell_type": "code",
      "metadata": {
        "id": "mV2lwRWb8B_F",
        "colab_type": "code",
        "colab": {}
      },
      "source": [
        "tdf=pd.read_csv('/content/drive/My Drive/vacs_test.csv',sep=';',index_col=0)"
      ],
      "execution_count": 27,
      "outputs": []
    },
    {
      "cell_type": "code",
      "metadata": {
        "id": "NR83aVoC9zqL",
        "colab_type": "code",
        "colab": {
          "base_uri": "https://localhost:8080/",
          "height": 34
        },
        "outputId": "93c656f6-94a8-4209-c61e-bf38832995f6"
      },
      "source": [
        "tdf.shape"
      ],
      "execution_count": 28,
      "outputs": [
        {
          "output_type": "execute_result",
          "data": {
            "text/plain": [
              "(50000, 23)"
            ]
          },
          "metadata": {
            "tags": []
          },
          "execution_count": 28
        }
      ]
    },
    {
      "cell_type": "code",
      "metadata": {
        "id": "K6HfusMAAy6i",
        "colab_type": "code",
        "colab": {
          "base_uri": "https://localhost:8080/",
          "height": 578
        },
        "outputId": "6e286447-716c-4277-f46f-3ae04474a58e"
      },
      "source": [
        "tdf.head()"
      ],
      "execution_count": 29,
      "outputs": [
        {
          "output_type": "execute_result",
          "data": {
            "text/html": [
              "<div>\n",
              "<style scoped>\n",
              "    .dataframe tbody tr th:only-of-type {\n",
              "        vertical-align: middle;\n",
              "    }\n",
              "\n",
              "    .dataframe tbody tr th {\n",
              "        vertical-align: top;\n",
              "    }\n",
              "\n",
              "    .dataframe thead th {\n",
              "        text-align: right;\n",
              "    }\n",
              "</style>\n",
              "<table border=\"1\" class=\"dataframe\">\n",
              "  <thead>\n",
              "    <tr style=\"text-align: right;\">\n",
              "      <th></th>\n",
              "      <th>id</th>\n",
              "      <th>name</th>\n",
              "      <th>name.lemm</th>\n",
              "      <th>area.name</th>\n",
              "      <th>city</th>\n",
              "      <th>company.id</th>\n",
              "      <th>company</th>\n",
              "      <th>company_link</th>\n",
              "      <th>publication_date</th>\n",
              "      <th>salary_from</th>\n",
              "      <th>salary_currency</th>\n",
              "      <th>employment</th>\n",
              "      <th>employment.name</th>\n",
              "      <th>schedule</th>\n",
              "      <th>schedule.name</th>\n",
              "      <th>experience</th>\n",
              "      <th>experience.name</th>\n",
              "      <th>key_skills</th>\n",
              "      <th>specializations</th>\n",
              "      <th>specializations.names</th>\n",
              "      <th>description</th>\n",
              "      <th>description.lemm</th>\n",
              "      <th>type</th>\n",
              "    </tr>\n",
              "    <tr>\n",
              "      <th>index</th>\n",
              "      <th></th>\n",
              "      <th></th>\n",
              "      <th></th>\n",
              "      <th></th>\n",
              "      <th></th>\n",
              "      <th></th>\n",
              "      <th></th>\n",
              "      <th></th>\n",
              "      <th></th>\n",
              "      <th></th>\n",
              "      <th></th>\n",
              "      <th></th>\n",
              "      <th></th>\n",
              "      <th></th>\n",
              "      <th></th>\n",
              "      <th></th>\n",
              "      <th></th>\n",
              "      <th></th>\n",
              "      <th></th>\n",
              "      <th></th>\n",
              "      <th></th>\n",
              "      <th></th>\n",
              "      <th></th>\n",
              "    </tr>\n",
              "  </thead>\n",
              "  <tbody>\n",
              "    <tr>\n",
              "      <th>150869</th>\n",
              "      <td>24030837</td>\n",
              "      <td>Бухгалтер на участок Банковские операции</td>\n",
              "      <td>бухгалтер участок банковский операция</td>\n",
              "      <td>Санкт-Петербург</td>\n",
              "      <td>unknown</td>\n",
              "      <td>1449838</td>\n",
              "      <td>Управляющая компания Технологии Тепличного Роста</td>\n",
              "      <td>https://hh.ru/employer/1449838</td>\n",
              "      <td>2018-01-15T13:54:19+0300</td>\n",
              "      <td>NaN</td>\n",
              "      <td>RUR</td>\n",
              "      <td>full</td>\n",
              "      <td>Полная занятость</td>\n",
              "      <td>fullDay</td>\n",
              "      <td>Полный день</td>\n",
              "      <td>between1And3</td>\n",
              "      <td>От 1 года до 3 лет</td>\n",
              "      <td>NaN</td>\n",
              "      <td>5.45 5.42 5.250</td>\n",
              "      <td>Банки, инвестиции, лизинг - Валютный контроль ...</td>\n",
              "      <td>В Управляющей компании \"Технологии Тепличного ...</td>\n",
              "      <td>управляющий компания технология тепличный рост...</td>\n",
              "      <td>test</td>\n",
              "    </tr>\n",
              "    <tr>\n",
              "      <th>150870</th>\n",
              "      <td>24012268</td>\n",
              "      <td>Помощник бухгалтера</td>\n",
              "      <td>помощник бухгалтер</td>\n",
              "      <td>Санкт-Петербург</td>\n",
              "      <td>Санкт-Петербург</td>\n",
              "      <td>1449838</td>\n",
              "      <td>Управляющая компания Технологии Тепличного Роста</td>\n",
              "      <td>https://hh.ru/employer/1449838</td>\n",
              "      <td>2018-01-09T16:22:00+0300</td>\n",
              "      <td>NaN</td>\n",
              "      <td>RUR</td>\n",
              "      <td>full</td>\n",
              "      <td>Полная занятость</td>\n",
              "      <td>flexible</td>\n",
              "      <td>Гибкий график</td>\n",
              "      <td>noExperience</td>\n",
              "      <td>Нет опыта</td>\n",
              "      <td>NaN</td>\n",
              "      <td>2.179 2.469 15.730</td>\n",
              "      <td>Бухгалтерия, управленческий учет, финансы пред...</td>\n",
              "      <td>В управляющей компании \"Технологии Тепличного ...</td>\n",
              "      <td>управляющий компания технология тепличный рост...</td>\n",
              "      <td>test</td>\n",
              "    </tr>\n",
              "    <tr>\n",
              "      <th>150871</th>\n",
              "      <td>23707419</td>\n",
              "      <td>Заместитель главного бухгалтера</td>\n",
              "      <td>заместитель главный бухгалтер</td>\n",
              "      <td>Санкт-Петербург</td>\n",
              "      <td>Санкт-Петербург</td>\n",
              "      <td>1449838</td>\n",
              "      <td>Управляющая компания Технологии Тепличного Роста</td>\n",
              "      <td>https://hh.ru/employer/1449838</td>\n",
              "      <td>2017-12-13T16:45:16+0300</td>\n",
              "      <td>NaN</td>\n",
              "      <td>RUR</td>\n",
              "      <td>full</td>\n",
              "      <td>Полная занятость</td>\n",
              "      <td>fullDay</td>\n",
              "      <td>Полный день</td>\n",
              "      <td>between3And6</td>\n",
              "      <td>От 3 до 6 лет</td>\n",
              "      <td>NaN</td>\n",
              "      <td>2.43 2.261 2.249</td>\n",
              "      <td>Бухгалтерия, управленческий учет, финансы пред...</td>\n",
              "      <td>В Управляющей компании \"Технологии Тепличного ...</td>\n",
              "      <td>управляющий компания технология тепличный рост...</td>\n",
              "      <td>test</td>\n",
              "    </tr>\n",
              "    <tr>\n",
              "      <th>150872</th>\n",
              "      <td>24306509</td>\n",
              "      <td>Торговый представитель по продажам КГС (компре...</td>\n",
              "      <td>торговый представитель продажа КГС компрессор ...</td>\n",
              "      <td>Санкт-Петербург</td>\n",
              "      <td>unknown</td>\n",
              "      <td>964064</td>\n",
              "      <td>Управляющая компания Техстройконтракт</td>\n",
              "      <td>https://hh.ru/employer/964064</td>\n",
              "      <td>2018-02-27T10:50:04+0300</td>\n",
              "      <td>NaN</td>\n",
              "      <td>RUR</td>\n",
              "      <td>full</td>\n",
              "      <td>Полная занятость</td>\n",
              "      <td>fullDay</td>\n",
              "      <td>Полный день</td>\n",
              "      <td>between3And6</td>\n",
              "      <td>От 3 до 6 лет</td>\n",
              "      <td>Активная жизненная позиция | Коммуникабельност...</td>\n",
              "      <td>7.14 7.222 17.15 17.242 17.306</td>\n",
              "      <td>Автомобильный бизнес - Автозапчасти | Автомоби...</td>\n",
              "      <td>Обязанности:  Продажа компрессоров, генераторо...</td>\n",
              "      <td>обязанность продажа компрессор генератор сварк...</td>\n",
              "      <td>test</td>\n",
              "    </tr>\n",
              "    <tr>\n",
              "      <th>150873</th>\n",
              "      <td>24043072</td>\n",
              "      <td>Заместитель директора по сервису</td>\n",
              "      <td>заместитель директор сервис</td>\n",
              "      <td>Санкт-Петербург</td>\n",
              "      <td>unknown</td>\n",
              "      <td>964064</td>\n",
              "      <td>Управляющая компания Техстройконтракт</td>\n",
              "      <td>https://hh.ru/employer/964064</td>\n",
              "      <td>2018-02-13T09:34:20+0300</td>\n",
              "      <td>NaN</td>\n",
              "      <td>RUR</td>\n",
              "      <td>full</td>\n",
              "      <td>Полная занятость</td>\n",
              "      <td>fullDay</td>\n",
              "      <td>Полный день</td>\n",
              "      <td>between3And6</td>\n",
              "      <td>От 3 до 6 лет</td>\n",
              "      <td>NaN</td>\n",
              "      <td>7.267 7.14 7.222 17.15 26.407</td>\n",
              "      <td>Автомобильный бизнес - Сервисное обслуживание ...</td>\n",
              "      <td>Обязанности:  Продажа услуг по сервисному обсл...</td>\n",
              "      <td>обязанность продажа услуга сервисный обслужива...</td>\n",
              "      <td>test</td>\n",
              "    </tr>\n",
              "  </tbody>\n",
              "</table>\n",
              "</div>"
            ],
            "text/plain": [
              "              id  ...  type\n",
              "index             ...      \n",
              "150869  24030837  ...  test\n",
              "150870  24012268  ...  test\n",
              "150871  23707419  ...  test\n",
              "150872  24306509  ...  test\n",
              "150873  24043072  ...  test\n",
              "\n",
              "[5 rows x 23 columns]"
            ]
          },
          "metadata": {
            "tags": []
          },
          "execution_count": 29
        }
      ]
    },
    {
      "cell_type": "code",
      "metadata": {
        "id": "YyMR6aYu-PCw",
        "colab_type": "code",
        "colab": {
          "base_uri": "https://localhost:8080/",
          "height": 119
        },
        "outputId": "f39ad0fa-ca65-46f9-d302-75e3ccebc7c0"
      },
      "source": [
        "tdf = get_cur_df(tdf)\n",
        "tdf.columns"
      ],
      "execution_count": 30,
      "outputs": [
        {
          "output_type": "execute_result",
          "data": {
            "text/plain": [
              "Index(['name.lemm', 'salary_from', 'experience', 'key_skills',\n",
              "       'specializations', 'specializations.names', 'description.lemm',\n",
              "       'employment_num', 'flexible_schedule', 'flyInFlyOut_schedule',\n",
              "       'fullDay_schedule', 'remote_schedule', 'shift_schedule', 'spec',\n",
              "       'spec_0', 'spec_1', 'spec_2', 'spec_3', 'spec_4', 'spec_5'],\n",
              "      dtype='object')"
            ]
          },
          "metadata": {
            "tags": []
          },
          "execution_count": 30
        }
      ]
    },
    {
      "cell_type": "code",
      "metadata": {
        "id": "2V6RLB8iBCdb",
        "colab_type": "code",
        "colab": {}
      },
      "source": [
        "tdf=tdf.drop(['spec', 'key_skills', 'name.lemm', 'specializations','specializations.names','description.lemm'],axis=1)"
      ],
      "execution_count": 31,
      "outputs": []
    },
    {
      "cell_type": "code",
      "metadata": {
        "id": "dhmpAM5iEqom",
        "colab_type": "code",
        "colab": {}
      },
      "source": [
        "tdf = tdf.drop(['salary_from'], axis=1)"
      ],
      "execution_count": 35,
      "outputs": []
    },
    {
      "cell_type": "code",
      "metadata": {
        "id": "8iQFZXhbDGsh",
        "colab_type": "code",
        "colab": {
          "base_uri": "https://localhost:8080/",
          "height": 470
        },
        "outputId": "b79bc502-5810-459e-a0ca-59cf1c5b3340"
      },
      "source": [
        "tdf"
      ],
      "execution_count": 36,
      "outputs": [
        {
          "output_type": "execute_result",
          "data": {
            "text/html": [
              "<div>\n",
              "<style scoped>\n",
              "    .dataframe tbody tr th:only-of-type {\n",
              "        vertical-align: middle;\n",
              "    }\n",
              "\n",
              "    .dataframe tbody tr th {\n",
              "        vertical-align: top;\n",
              "    }\n",
              "\n",
              "    .dataframe thead th {\n",
              "        text-align: right;\n",
              "    }\n",
              "</style>\n",
              "<table border=\"1\" class=\"dataframe\">\n",
              "  <thead>\n",
              "    <tr style=\"text-align: right;\">\n",
              "      <th></th>\n",
              "      <th>experience</th>\n",
              "      <th>employment_num</th>\n",
              "      <th>flexible_schedule</th>\n",
              "      <th>flyInFlyOut_schedule</th>\n",
              "      <th>fullDay_schedule</th>\n",
              "      <th>remote_schedule</th>\n",
              "      <th>shift_schedule</th>\n",
              "      <th>spec_0</th>\n",
              "      <th>spec_1</th>\n",
              "      <th>spec_2</th>\n",
              "      <th>spec_3</th>\n",
              "      <th>spec_4</th>\n",
              "      <th>spec_5</th>\n",
              "    </tr>\n",
              "    <tr>\n",
              "      <th>index</th>\n",
              "      <th></th>\n",
              "      <th></th>\n",
              "      <th></th>\n",
              "      <th></th>\n",
              "      <th></th>\n",
              "      <th></th>\n",
              "      <th></th>\n",
              "      <th></th>\n",
              "      <th></th>\n",
              "      <th></th>\n",
              "      <th></th>\n",
              "      <th></th>\n",
              "      <th></th>\n",
              "    </tr>\n",
              "  </thead>\n",
              "  <tbody>\n",
              "    <tr>\n",
              "      <th>150869</th>\n",
              "      <td>2</td>\n",
              "      <td>1</td>\n",
              "      <td>0</td>\n",
              "      <td>0</td>\n",
              "      <td>1</td>\n",
              "      <td>0</td>\n",
              "      <td>0</td>\n",
              "      <td>5</td>\n",
              "      <td>0</td>\n",
              "      <td>0</td>\n",
              "      <td>0</td>\n",
              "      <td>0</td>\n",
              "      <td>0</td>\n",
              "    </tr>\n",
              "    <tr>\n",
              "      <th>150870</th>\n",
              "      <td>0</td>\n",
              "      <td>1</td>\n",
              "      <td>1</td>\n",
              "      <td>0</td>\n",
              "      <td>0</td>\n",
              "      <td>0</td>\n",
              "      <td>0</td>\n",
              "      <td>2</td>\n",
              "      <td>15</td>\n",
              "      <td>0</td>\n",
              "      <td>0</td>\n",
              "      <td>0</td>\n",
              "      <td>0</td>\n",
              "    </tr>\n",
              "    <tr>\n",
              "      <th>150871</th>\n",
              "      <td>4</td>\n",
              "      <td>1</td>\n",
              "      <td>0</td>\n",
              "      <td>0</td>\n",
              "      <td>1</td>\n",
              "      <td>0</td>\n",
              "      <td>0</td>\n",
              "      <td>2</td>\n",
              "      <td>0</td>\n",
              "      <td>0</td>\n",
              "      <td>0</td>\n",
              "      <td>0</td>\n",
              "      <td>0</td>\n",
              "    </tr>\n",
              "    <tr>\n",
              "      <th>150872</th>\n",
              "      <td>4</td>\n",
              "      <td>1</td>\n",
              "      <td>0</td>\n",
              "      <td>0</td>\n",
              "      <td>1</td>\n",
              "      <td>0</td>\n",
              "      <td>0</td>\n",
              "      <td>7</td>\n",
              "      <td>17</td>\n",
              "      <td>0</td>\n",
              "      <td>0</td>\n",
              "      <td>0</td>\n",
              "      <td>0</td>\n",
              "    </tr>\n",
              "    <tr>\n",
              "      <th>150873</th>\n",
              "      <td>4</td>\n",
              "      <td>1</td>\n",
              "      <td>0</td>\n",
              "      <td>0</td>\n",
              "      <td>1</td>\n",
              "      <td>0</td>\n",
              "      <td>0</td>\n",
              "      <td>7</td>\n",
              "      <td>17</td>\n",
              "      <td>26</td>\n",
              "      <td>0</td>\n",
              "      <td>0</td>\n",
              "      <td>0</td>\n",
              "    </tr>\n",
              "    <tr>\n",
              "      <th>...</th>\n",
              "      <td>...</td>\n",
              "      <td>...</td>\n",
              "      <td>...</td>\n",
              "      <td>...</td>\n",
              "      <td>...</td>\n",
              "      <td>...</td>\n",
              "      <td>...</td>\n",
              "      <td>...</td>\n",
              "      <td>...</td>\n",
              "      <td>...</td>\n",
              "      <td>...</td>\n",
              "      <td>...</td>\n",
              "      <td>...</td>\n",
              "    </tr>\n",
              "    <tr>\n",
              "      <th>227383</th>\n",
              "      <td>2</td>\n",
              "      <td>1</td>\n",
              "      <td>0</td>\n",
              "      <td>0</td>\n",
              "      <td>1</td>\n",
              "      <td>0</td>\n",
              "      <td>0</td>\n",
              "      <td>5</td>\n",
              "      <td>0</td>\n",
              "      <td>0</td>\n",
              "      <td>0</td>\n",
              "      <td>0</td>\n",
              "      <td>0</td>\n",
              "    </tr>\n",
              "    <tr>\n",
              "      <th>227384</th>\n",
              "      <td>2</td>\n",
              "      <td>1</td>\n",
              "      <td>0</td>\n",
              "      <td>0</td>\n",
              "      <td>1</td>\n",
              "      <td>0</td>\n",
              "      <td>0</td>\n",
              "      <td>4</td>\n",
              "      <td>0</td>\n",
              "      <td>0</td>\n",
              "      <td>0</td>\n",
              "      <td>0</td>\n",
              "      <td>0</td>\n",
              "    </tr>\n",
              "    <tr>\n",
              "      <th>227385</th>\n",
              "      <td>2</td>\n",
              "      <td>1</td>\n",
              "      <td>0</td>\n",
              "      <td>0</td>\n",
              "      <td>1</td>\n",
              "      <td>0</td>\n",
              "      <td>0</td>\n",
              "      <td>23</td>\n",
              "      <td>0</td>\n",
              "      <td>0</td>\n",
              "      <td>0</td>\n",
              "      <td>0</td>\n",
              "      <td>0</td>\n",
              "    </tr>\n",
              "    <tr>\n",
              "      <th>227386</th>\n",
              "      <td>4</td>\n",
              "      <td>1</td>\n",
              "      <td>0</td>\n",
              "      <td>0</td>\n",
              "      <td>1</td>\n",
              "      <td>0</td>\n",
              "      <td>0</td>\n",
              "      <td>21</td>\n",
              "      <td>0</td>\n",
              "      <td>0</td>\n",
              "      <td>0</td>\n",
              "      <td>0</td>\n",
              "      <td>0</td>\n",
              "    </tr>\n",
              "    <tr>\n",
              "      <th>227387</th>\n",
              "      <td>2</td>\n",
              "      <td>1</td>\n",
              "      <td>0</td>\n",
              "      <td>0</td>\n",
              "      <td>1</td>\n",
              "      <td>0</td>\n",
              "      <td>0</td>\n",
              "      <td>18</td>\n",
              "      <td>0</td>\n",
              "      <td>0</td>\n",
              "      <td>0</td>\n",
              "      <td>0</td>\n",
              "      <td>0</td>\n",
              "    </tr>\n",
              "  </tbody>\n",
              "</table>\n",
              "<p>50000 rows × 13 columns</p>\n",
              "</div>"
            ],
            "text/plain": [
              "        experience  employment_num  flexible_schedule  ...  spec_3  spec_4  spec_5\n",
              "index                                                  ...                        \n",
              "150869           2               1                  0  ...       0       0       0\n",
              "150870           0               1                  1  ...       0       0       0\n",
              "150871           4               1                  0  ...       0       0       0\n",
              "150872           4               1                  0  ...       0       0       0\n",
              "150873           4               1                  0  ...       0       0       0\n",
              "...            ...             ...                ...  ...     ...     ...     ...\n",
              "227383           2               1                  0  ...       0       0       0\n",
              "227384           2               1                  0  ...       0       0       0\n",
              "227385           2               1                  0  ...       0       0       0\n",
              "227386           4               1                  0  ...       0       0       0\n",
              "227387           2               1                  0  ...       0       0       0\n",
              "\n",
              "[50000 rows x 13 columns]"
            ]
          },
          "metadata": {
            "tags": []
          },
          "execution_count": 36
        }
      ]
    },
    {
      "cell_type": "code",
      "metadata": {
        "id": "WKP2HhKjEd3M",
        "colab_type": "code",
        "colab": {}
      },
      "source": [
        "predict_test = model.predict(tdf)"
      ],
      "execution_count": 37,
      "outputs": []
    },
    {
      "cell_type": "code",
      "metadata": {
        "id": "u8G8UFPWFoks",
        "colab_type": "code",
        "colab": {}
      },
      "source": [
        "#округлить до 1к\n",
        "\n",
        "for i in range(len(predict_test)):\n",
        "  num = predict_test[i]\n",
        "  num = round(num)\n",
        "  st = str(num)[-5:-2]\n",
        "  if int(st)>=500:\n",
        "    predict_test[i] = float((int(str(num)[:-5])+1)*1000)\n",
        "  else: \n",
        "    predict_test[i] = float((int(str(num)[:-5]))*1000)\n"
      ],
      "execution_count": 40,
      "outputs": []
    },
    {
      "cell_type": "code",
      "metadata": {
        "id": "iyND2OuwE38K",
        "colab_type": "code",
        "colab": {}
      },
      "source": [
        "pd.DataFrame(predict_test).to_csv(\"/content/drive/My Drive/result.csv\", index=False, header=[\"Test_Predicted\"])"
      ],
      "execution_count": 41,
      "outputs": []
    },
    {
      "cell_type": "code",
      "metadata": {
        "id": "ao_TgNG6FLuC",
        "colab_type": "code",
        "colab": {
          "base_uri": "https://localhost:8080/",
          "height": 419
        },
        "outputId": "db6d9a77-a02d-4191-8fc0-ac9b34757307"
      },
      "source": [
        "pd.read_csv(\"/content/drive/My Drive/result.csv\")"
      ],
      "execution_count": 42,
      "outputs": [
        {
          "output_type": "execute_result",
          "data": {
            "text/html": [
              "<div>\n",
              "<style scoped>\n",
              "    .dataframe tbody tr th:only-of-type {\n",
              "        vertical-align: middle;\n",
              "    }\n",
              "\n",
              "    .dataframe tbody tr th {\n",
              "        vertical-align: top;\n",
              "    }\n",
              "\n",
              "    .dataframe thead th {\n",
              "        text-align: right;\n",
              "    }\n",
              "</style>\n",
              "<table border=\"1\" class=\"dataframe\">\n",
              "  <thead>\n",
              "    <tr style=\"text-align: right;\">\n",
              "      <th></th>\n",
              "      <th>Test_Predicted</th>\n",
              "    </tr>\n",
              "  </thead>\n",
              "  <tbody>\n",
              "    <tr>\n",
              "      <th>0</th>\n",
              "      <td>42000.0</td>\n",
              "    </tr>\n",
              "    <tr>\n",
              "      <th>1</th>\n",
              "      <td>26000.0</td>\n",
              "    </tr>\n",
              "    <tr>\n",
              "      <th>2</th>\n",
              "      <td>49000.0</td>\n",
              "    </tr>\n",
              "    <tr>\n",
              "      <th>3</th>\n",
              "      <td>55000.0</td>\n",
              "    </tr>\n",
              "    <tr>\n",
              "      <th>4</th>\n",
              "      <td>54000.0</td>\n",
              "    </tr>\n",
              "    <tr>\n",
              "      <th>...</th>\n",
              "      <td>...</td>\n",
              "    </tr>\n",
              "    <tr>\n",
              "      <th>49995</th>\n",
              "      <td>42000.0</td>\n",
              "    </tr>\n",
              "    <tr>\n",
              "      <th>49996</th>\n",
              "      <td>31000.0</td>\n",
              "    </tr>\n",
              "    <tr>\n",
              "      <th>49997</th>\n",
              "      <td>39000.0</td>\n",
              "    </tr>\n",
              "    <tr>\n",
              "      <th>49998</th>\n",
              "      <td>47000.0</td>\n",
              "    </tr>\n",
              "    <tr>\n",
              "      <th>49999</th>\n",
              "      <td>41000.0</td>\n",
              "    </tr>\n",
              "  </tbody>\n",
              "</table>\n",
              "<p>50000 rows × 1 columns</p>\n",
              "</div>"
            ],
            "text/plain": [
              "       Test_Predicted\n",
              "0             42000.0\n",
              "1             26000.0\n",
              "2             49000.0\n",
              "3             55000.0\n",
              "4             54000.0\n",
              "...               ...\n",
              "49995         42000.0\n",
              "49996         31000.0\n",
              "49997         39000.0\n",
              "49998         47000.0\n",
              "49999         41000.0\n",
              "\n",
              "[50000 rows x 1 columns]"
            ]
          },
          "metadata": {
            "tags": []
          },
          "execution_count": 42
        }
      ]
    }
  ]
}